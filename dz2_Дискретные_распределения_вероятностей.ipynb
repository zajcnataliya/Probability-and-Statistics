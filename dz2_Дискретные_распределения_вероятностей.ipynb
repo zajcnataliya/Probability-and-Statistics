{
  "nbformat": 4,
  "nbformat_minor": 0,
  "metadata": {
    "colab": {
      "provenance": []
    },
    "kernelspec": {
      "name": "python3",
      "display_name": "Python 3"
    },
    "language_info": {
      "name": "python"
    }
  },
  "cells": [
    {
      "cell_type": "code",
      "source": [
        "# 1.Вероятность того, что стрелок попадет в мишень, выстрелив один раз, равна 0.8.\n",
        "# Стрелок выстрелил 100 раз. Найдите вероятность того, что стрелок попадет в цель ровно 85 раз."
      ],
      "metadata": {
        "id": "fOqXbeRo85ht"
      },
      "execution_count": null,
      "outputs": []
    },
    {
      "cell_type": "code",
      "execution_count": 11,
      "metadata": {
        "colab": {
          "base_uri": "https://localhost:8080/"
        },
        "id": "u0mt-rZV30sb",
        "outputId": "c0d86cad-ef46-4764-9a68-8bbf2fbd1cd7"
      },
      "outputs": [
        {
          "output_type": "stream",
          "name": "stdout",
          "text": [
            "Вероятность того, что стрелок попадет в цель ровно 85 раз = 0.048\n"
          ]
        }
      ],
      "source": [
        "import numpy as np\n",
        "import math\n",
        "\n",
        "def combination(n, k):\n",
        "  return np.math.factorial(n) // (np.math.factorial(k) * np.math.factorial(n - k))\n",
        "\n",
        "p = 0.8\n",
        "n = 100\n",
        "k = 85\n",
        "# Используем формулу Бернулли\n",
        "P = combination(n, k) * (p ** k) * (1 - p) ** (n - k)\n",
        "print(f\"Вероятность того, что стрелок попадет в цель ровно 85 раз = {round(P, 3)}\")"
      ]
    },
    {
      "cell_type": "code",
      "source": [
        "#2.Вероятность того, что лампочка перегорит в течение первого дня эксплуатации, равна 0.0004.\n",
        "# В жилом комплексе после ремонта в один день включили 5000 новых лампочек. Какова вероятность,\n",
        "# что ни одна из них не перегорит в первый день? Какова вероятность, что перегорят ровно две?"
      ],
      "metadata": {
        "id": "wN1eH64354Mx"
      },
      "execution_count": null,
      "outputs": []
    },
    {
      "cell_type": "code",
      "source": [
        "p = 0.0004\n",
        "n = 5000\n",
        "m = 0\n",
        "# Используем формулу Пуансона\n",
        "l = n * p\n",
        "P1 = l **m / math.factorial(m) * math.e **(-l)\n",
        "print(f\"Вероятность, что ни одна лампочка не перегорит в первый день = {round(P1, 3)}\")\n",
        "\n",
        "\n"
      ],
      "metadata": {
        "colab": {
          "base_uri": "https://localhost:8080/"
        },
        "id": "ZL5Mz53g-ZSb",
        "outputId": "67f79598-69c2-44f5-e4d4-b97434b46b80"
      },
      "execution_count": 44,
      "outputs": [
        {
          "output_type": "stream",
          "name": "stdout",
          "text": [
            "Вероятность, что ни одна лампочка не перегорит в первый день = 0.135\n"
          ]
        }
      ]
    },
    {
      "cell_type": "code",
      "source": [
        "p = 0.0004\n",
        "n = 5000\n",
        "m = 2\n",
        "# Используем формулу Пуансона\n",
        "P = combination(n, k) * (p ** \n",
        "l = n * p\n",
        "P1 = l **m / math.factorial(m) * math.e **(-l)\n",
        "print(f\"Вероятность, что ни одна лампочка не перегорит в первый день = {round(P1, 3)}\")\n"
      ],
      "metadata": {
        "colab": {
          "base_uri": "https://localhost:8080/"
        },
        "id": "Mf9rxtmyIZYx",
        "outputId": "b2d40381-85d9-4d64-9e85-825fcd9b1ec7"
      },
      "execution_count": 45,
      "outputs": [
        {
          "output_type": "stream",
          "name": "stdout",
          "text": [
            "Вероятность, что ни одна лампочка не перегорит в первый день = 0.271\n"
          ]
        }
      ]
    },
    {
      "cell_type": "code",
      "source": [
        "# 3.Монету подбросили 144 раза. Какова вероятность, что орел выпадет ровно 70 раз?"
      ],
      "metadata": {
        "id": "qEFajja1IvDo"
      },
      "execution_count": null,
      "outputs": []
    },
    {
      "cell_type": "code",
      "source": [
        "n = 144\n",
        "k = 70\n",
        "p = 0.5\n",
        "# Используем формулу Бернулли\n",
        "P = combination(n, k) * (p ** k) * (1 - p) ** (n - k)\n",
        "print(f\"Вероятность, что орел выпадет ровно 70 раз = {round(P, 3)}\")\n",
        "\n"
      ],
      "metadata": {
        "colab": {
          "base_uri": "https://localhost:8080/"
        },
        "id": "gL8Sjg3pI57y",
        "outputId": "f865e553-5ea4-47d7-a776-efc557d26104"
      },
      "execution_count": 46,
      "outputs": [
        {
          "output_type": "stream",
          "name": "stdout",
          "text": [
            "Вероятность, что орел выпадет ровно 70 раз = 0.063\n"
          ]
        }
      ]
    },
    {
      "cell_type": "code",
      "source": [
        "# 4.\tВ первом ящике находится 10 мячей, из которых 7 - белые. Во втором ящике - 11 мячей, из которых 9 белых.\n",
        "# Из каждого ящика вытаскивают случайным образом по два мяча. Какова вероятность того, что все мячи белые? \n",
        "# Какова вероятность того, что ровно два мяча белые? Какова вероятность того, что хотя бы один мяч белый?"
      ],
      "metadata": {
        "id": "9DxBQCd9Kjb2"
      },
      "execution_count": null,
      "outputs": []
    },
    {
      "cell_type": "code",
      "source": [
        "#Какова вероятность того, что все мячи белые? \n",
        "import numpy as np\n",
        "import math\n",
        "\n",
        "def combination(k, n):\n",
        "  return np.math.factorial(n) // (np.math.factorial(k) * np.math.factorial(n - k))\n",
        "\n",
        "P1 = (combination(2, 7)) / (combination(2, 10))\n",
        "P2 = (combination(2, 9)) / (combination(2, 11))\n",
        "\n",
        "P = P1 * P2\n",
        "print(f\"Вероятность того, что все мячи белые = {P}\")"
      ],
      "metadata": {
        "colab": {
          "base_uri": "https://localhost:8080/"
        },
        "id": "9JkfsG82K1UK",
        "outputId": "419d039b-b37b-4bf3-d29d-519afd4e6c6b"
      },
      "execution_count": 67,
      "outputs": [
        {
          "output_type": "stream",
          "name": "stdout",
          "text": [
            "Вероятность того, что все мячи белые = 0.3054545454545455\n"
          ]
        }
      ]
    },
    {
      "cell_type": "code",
      "source": [
        "# Какова вероятность того, что ровно два мяча белые?\n",
        "\n",
        "# P1 = ww*bb\n",
        "P1 = ((combination(2, 7)) / (combination(2, 10))) * ((combination(2, 2)) / (combination(2, 11)))\n",
        "# P2 = bb*ww\n",
        "P2 = ((combination(2, 3)) / (combination(2, 10))) * ((combination(2, 9)) / (combination(2, 11)))\n",
        "# P3 = wb*wb\n",
        "P3 = ((combination(1, 7)) / (combination(1, 10))) * ((combination(1, 9)) / (combination(1, 11)))\n",
        "# P4 = bw*bw\n",
        "P4 = ((combination(1, 3)) / (combination(1, 10))) * ((combination(1, 2)) / (combination(1, 11)))\n",
        "# P5 = wb*bw\n",
        "P5 = ((combination(1, 7)) / (combination(1, 10))) * ((combination(1, 2)) / (combination(1, 11)))\n",
        "# P6 = bw*wb\n",
        "P6 = ((combination(1, 3)) / (combination(1, 10))) * ((combination(1, 9)) / (combination(1, 11)))\n",
        "P = P1 + P2 + P3 + P4 + P5 + P6 \n",
        "print(P)\n"
      ],
      "metadata": {
        "colab": {
          "base_uri": "https://localhost:8080/"
        },
        "id": "iDVhkYRfVzNf",
        "outputId": "9b030f21-4cd7-4df8-c955-250cec1b52a3"
      },
      "execution_count": 82,
      "outputs": [
        {
          "output_type": "stream",
          "name": "stdout",
          "text": [
            "1.052121212121212\n"
          ]
        }
      ]
    },
    {
      "cell_type": "code",
      "source": [
        "# Какова вероятность того, что ровно два мяча белые?\n",
        "(7/10*6/9*2/11*1/10) + (3/10*2/9*9/11*8/10) + (7/10*3/9*9/11*2/10) + (3/10*7/9*2/11*9/11) + (7/10*3/9*2/11*9/10) + (3/10*7/9*9/11*2/10)\n"
      ],
      "metadata": {
        "colab": {
          "base_uri": "https://localhost:8080/"
        },
        "id": "JOUcu66gjlY7",
        "outputId": "da28d538-ee83-4308-e457-1b4a89ca81aa"
      },
      "execution_count": 84,
      "outputs": [
        {
          "output_type": "execute_result",
          "data": {
            "text/plain": [
              "0.20137741046831956"
            ]
          },
          "metadata": {},
          "execution_count": 84
        }
      ]
    },
    {
      "cell_type": "code",
      "source": [
        "# Какова вероятность того, что хотя бы один мяч белый?\n",
        "import numpy as np\n",
        "import math\n",
        "\n",
        "def combination(k, n):\n",
        "  return np.math.factorial(n) // (np.math.factorial(k) * np.math.factorial(n - k))\n",
        "# найдем, что все мячи черные\n",
        "P1 = (combination(2, 3)) / (combination(2, 10))\n",
        "P2 = (combination(2, 2)) / (combination(2, 11))\n",
        "\n",
        "P_black = P1 * P2\n",
        "print(f\"Вероятность того, что все мячи черные = {P_black}\")\n",
        "P_1white = 1 - P_black\n",
        "print(f\"Вероятность того, что хотя бы один мяч белый = {P_1white}\")"
      ],
      "metadata": {
        "colab": {
          "base_uri": "https://localhost:8080/"
        },
        "id": "64n3DKTCmRMf",
        "outputId": "166ecea3-80d3-41e0-aff1-e268c1f934aa"
      },
      "execution_count": 88,
      "outputs": [
        {
          "output_type": "stream",
          "name": "stdout",
          "text": [
            "Вероятность того, что все мячи черные = 0.0012121212121212121\n",
            "Вероятность того, что хотя бы один мяч белый = 0.9987878787878788\n"
          ]
        }
      ]
    },
    {
      "cell_type": "markdown",
      "source": [],
      "metadata": {
        "id": "VFjow0qkDhmz"
      }
    }
  ]
}