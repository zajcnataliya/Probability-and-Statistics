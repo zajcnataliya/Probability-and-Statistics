{
  "nbformat": 4,
  "nbformat_minor": 0,
  "metadata": {
    "colab": {
      "provenance": [],
      "authorship_tag": "ABX9TyPMk7JOT3wTp6zv/lz8+9xS",
      "include_colab_link": true
    },
    "kernelspec": {
      "name": "python3",
      "display_name": "Python 3"
    },
    "language_info": {
      "name": "python"
    }
  },
  "cells": [
    {
      "cell_type": "markdown",
      "metadata": {
        "id": "view-in-github",
        "colab_type": "text"
      },
      "source": [
        "<a href=\"https://colab.research.google.com/github/zajcnataliya/Probability-and-Statistics/blob/main/dz9__%D0%9B%D0%B8%D0%BD%D0%B5%D0%B9%D0%BD%D0%B0%D1%8F_%D1%80%D0%B5%D0%B3%D1%80%D0%B5%D1%81%D1%81%D0%B8%D1%8F.ipynb\" target=\"_parent\"><img src=\"https://colab.research.google.com/assets/colab-badge.svg\" alt=\"Open In Colab\"/></a>"
      ]
    },
    {
      "cell_type": "markdown",
      "source": [
        "Задача 1\n",
        "\n",
        "Даны значения величины заработной платы заемщиков банка (zp) и значения их поведенческого кредитного скоринга (ks):\n",
        "\n",
        "zp = [35, 45, 190, 200, 40, 70, 54, 150, 120, 110],\n",
        "\n",
        "ks = [401, 574, 874, 919, 459, 739, 653, 902, 746, 832].\n",
        "\n",
        "Используя математические операции, посчитать коэффициенты линейной регрессии, приняв за X заработную плату (то есть, zp - признак), а за y - значения скорингового балла (то есть, ks - целевая переменная). Произвести расчет как с использованием intercept, так и без\n"
      ],
      "metadata": {
        "id": "inxa3xU9d3d0"
      }
    },
    {
      "cell_type": "code",
      "source": [
        "import scipy.stats as stats\n",
        "import numpy as np\n",
        "import matplotlib.pyplot as plt\n"
      ],
      "metadata": {
        "id": "IJHcrv-DhOLH"
      },
      "execution_count": 54,
      "outputs": []
    },
    {
      "cell_type": "code",
      "source": [
        "x = np.array([35, 45, 190, 200, 40, 70, 54, 150, 120, 110])\n",
        "y = np.array([401, 574, 874, 919, 459, 739, 653, 902, 746, 832])"
      ],
      "metadata": {
        "id": "2IxxMcx2du05"
      },
      "execution_count": 116,
      "outputs": []
    },
    {
      "cell_type": "code",
      "source": [
        "from sklearn.linear_model import LinearRegression\n",
        "\n",
        "x = x.reshape(-1, 1)\n",
        "x"
      ],
      "metadata": {
        "colab": {
          "base_uri": "https://localhost:8080/"
        },
        "id": "5iB2V_UCiZ-S",
        "outputId": "c43d70d1-036d-4f30-822a-307bc19f7498"
      },
      "execution_count": 56,
      "outputs": [
        {
          "output_type": "execute_result",
          "data": {
            "text/plain": [
              "array([[ 35],\n",
              "       [ 45],\n",
              "       [190],\n",
              "       [200],\n",
              "       [ 40],\n",
              "       [ 70],\n",
              "       [ 54],\n",
              "       [150],\n",
              "       [120],\n",
              "       [110]])"
            ]
          },
          "metadata": {},
          "execution_count": 56
        }
      ]
    },
    {
      "cell_type": "code",
      "source": [
        "# подберем коэффициенты для линии регрессии с помощью функции\n",
        "model = LinearRegression()\n",
        "regres = model.fit(x, y)\n",
        "print(regres.intercept_) # выводим интерсепт\n",
        "print(regres.coef_) # выводим коэффициент"
      ],
      "metadata": {
        "colab": {
          "base_uri": "https://localhost:8080/"
        },
        "id": "9W8DFtWKBZjE",
        "outputId": "8cd2cd20-f535-4e96-ff7c-a7be71dffb89"
      },
      "execution_count": 57,
      "outputs": [
        {
          "output_type": "stream",
          "name": "stdout",
          "text": [
            "444.1773573243595\n",
            "[2.62053888]\n"
          ]
        }
      ]
    },
    {
      "cell_type": "code",
      "source": [
        "def line (x):\n",
        "    return 444.117+2.62*x\n",
        "\n",
        "plt.scatter(x, y)\n",
        "plt.plot(x, 444.117+2.62*x)"
      ],
      "metadata": {
        "colab": {
          "base_uri": "https://localhost:8080/",
          "height": 447
        },
        "id": "O1xAmrcJinm8",
        "outputId": "f9087ec0-0940-415b-fd15-7f111a2809f6"
      },
      "execution_count": 59,
      "outputs": [
        {
          "output_type": "execute_result",
          "data": {
            "text/plain": [
              "[<matplotlib.lines.Line2D at 0x7f40b7402610>]"
            ]
          },
          "metadata": {},
          "execution_count": 59
        },
        {
          "output_type": "display_data",
          "data": {
            "text/plain": [
              "<Figure size 640x480 with 1 Axes>"
            ],
            "image/png": "[encoded data removed]"
          },
          "metadata": {}
        }
      ]
    },
    {
      "cell_type": "code",
      "source": [
        "# подберем коэффициенты для линии регрессии математическими формулами с интерсептом\n",
        "n = 10"
      ],
      "metadata": {
        "id": "0QZM-UmbG9LZ"
      },
      "execution_count": 41,
      "outputs": []
    },
    {
      "cell_type": "code",
      "source": [
        "b1 = (n*np.sum(x * y) - np.sum(x) * np.sum(y)) / (n * np.sum(x**2) - np.sum(x)**2)\n",
        "b1"
      ],
      "metadata": {
        "colab": {
          "base_uri": "https://localhost:8080/"
        },
        "id": "jfRSuFHuHGXU",
        "outputId": "a6166ed3-dc98-4b20-a3ae-964ddda3f112"
      },
      "execution_count": 42,
      "outputs": [
        {
          "output_type": "execute_result",
          "data": {
            "text/plain": [
              "2.6205388824027653"
            ]
          },
          "metadata": {},
          "execution_count": 42
        }
      ]
    },
    {
      "cell_type": "code",
      "source": [
        "b1 = (np.mean(x * y) - np.mean(x) * np.mean(y)) / (np.mean(x**2) - np.mean(x)**2)\n",
        "b1"
      ],
      "metadata": {
        "colab": {
          "base_uri": "https://localhost:8080/"
        },
        "id": "YLFwpQ9XSNC0",
        "outputId": "8718cdc6-a15c-4186-8965-ed1e39fc3de7"
      },
      "execution_count": 43,
      "outputs": [
        {
          "output_type": "execute_result",
          "data": {
            "text/plain": [
              "2.620538882402765"
            ]
          },
          "metadata": {},
          "execution_count": 43
        }
      ]
    },
    {
      "cell_type": "code",
      "source": [
        "b0 = np.mean(y) - b1 * np.mean(x)\n",
        "b0"
      ],
      "metadata": {
        "colab": {
          "base_uri": "https://localhost:8080/"
        },
        "id": "pi4Z4w76OU05",
        "outputId": "38d7a428-4009-4b19-c500-ba066c1df005"
      },
      "execution_count": 45,
      "outputs": [
        {
          "output_type": "execute_result",
          "data": {
            "text/plain": [
              "444.1773573243596"
            ]
          },
          "metadata": {},
          "execution_count": 45
        }
      ]
    },
    {
      "cell_type": "code",
      "source": [
        "y_pred = 444.1773573243596 + 2.620538882402765 * x\n",
        "y_pred"
      ],
      "metadata": {
        "colab": {
          "base_uri": "https://localhost:8080/"
        },
        "id": "gaAS81A7SMJh",
        "outputId": "e7357cdb-c3b0-4b4a-ad06-cdbcd6cab993"
      },
      "execution_count": 46,
      "outputs": [
        {
          "output_type": "execute_result",
          "data": {
            "text/plain": [
              "array([535.89621821, 562.10160703, 942.07974498, 968.2851338 ,\n",
              "       548.99891262, 627.61507909, 585.68645697, 837.25818968,\n",
              "       758.64202321, 732.43663439])"
            ]
          },
          "metadata": {},
          "execution_count": 46
        }
      ]
    },
    {
      "cell_type": "code",
      "source": [
        "# подберем коэффициенты для линии регрессии матричным методом без интерсепта\n",
        "x = x.reshape(-1, 1)\n",
        "x"
      ],
      "metadata": {
        "colab": {
          "base_uri": "https://localhost:8080/"
        },
        "id": "1tMTgt1EYXH8",
        "outputId": "543495a0-cb59-4fdb-c4df-a558ab2ebbbe"
      },
      "execution_count": 65,
      "outputs": [
        {
          "output_type": "execute_result",
          "data": {
            "text/plain": [
              "array([[ 35],\n",
              "       [ 45],\n",
              "       [190],\n",
              "       [200],\n",
              "       [ 40],\n",
              "       [ 70],\n",
              "       [ 54],\n",
              "       [150],\n",
              "       [120],\n",
              "       [110]])"
            ]
          },
          "metadata": {},
          "execution_count": 65
        }
      ]
    },
    {
      "cell_type": "code",
      "source": [
        "y = y.reshape(-1, 1)\n",
        "y"
      ],
      "metadata": {
        "colab": {
          "base_uri": "https://localhost:8080/"
        },
        "id": "lTLV2iIgYrRb",
        "outputId": "f55866d3-b06e-468c-e622-469f521abfc7"
      },
      "execution_count": 66,
      "outputs": [
        {
          "output_type": "execute_result",
          "data": {
            "text/plain": [
              "array([[401],\n",
              "       [574],\n",
              "       [874],\n",
              "       [919],\n",
              "       [459],\n",
              "       [739],\n",
              "       [653],\n",
              "       [902],\n",
              "       [746],\n",
              "       [832]])"
            ]
          },
          "metadata": {},
          "execution_count": 66
        }
      ]
    },
    {
      "cell_type": "code",
      "source": [
        "B = np.dot(np.linalg.inv(np.dot(x.T, x)), x.T @ y)\n",
        "B"
      ],
      "metadata": {
        "colab": {
          "base_uri": "https://localhost:8080/"
        },
        "id": "g6idjW-rY-Vg",
        "outputId": "23ce1f92-122a-46e9-edb3-e56ad5978aa4"
      },
      "execution_count": 67,
      "outputs": [
        {
          "output_type": "execute_result",
          "data": {
            "text/plain": [
              "array([[5.88982042]])"
            ]
          },
          "metadata": {},
          "execution_count": 67
        }
      ]
    },
    {
      "cell_type": "code",
      "source": [
        "y_pred = 5.88982042 * x\n",
        "y_pred"
      ],
      "metadata": {
        "colab": {
          "base_uri": "https://localhost:8080/"
        },
        "id": "wYS30i6nasYl",
        "outputId": "1eb145bb-98aa-4342-cb98-013c499dc169"
      },
      "execution_count": 68,
      "outputs": [
        {
          "output_type": "execute_result",
          "data": {
            "text/plain": [
              "array([[ 206.1437147 ],\n",
              "       [ 265.0419189 ],\n",
              "       [1119.0658798 ],\n",
              "       [1177.964084  ],\n",
              "       [ 235.5928168 ],\n",
              "       [ 412.2874294 ],\n",
              "       [ 318.05030268],\n",
              "       [ 883.473063  ],\n",
              "       [ 706.7784504 ],\n",
              "       [ 647.8802462 ]])"
            ]
          },
          "metadata": {},
          "execution_count": 68
        }
      ]
    },
    {
      "cell_type": "markdown",
      "source": [
        "Задача 2\n",
        "\n",
        "Посчитать коэффициент линейной регрессии при заработной плате (zp), используя градиентный спуск (без intercept)."
      ],
      "metadata": {
        "id": "yiV08fDukgTj"
      }
    },
    {
      "cell_type": "code",
      "source": [
        "# градиентный спуск (без ntercept)\n",
        "\n",
        "def mse_(B1, y=y, x=x, n=10):\n",
        "  return np.sum((B1*x - y)**2)/n"
      ],
      "metadata": {
        "id": "1B-dTHPskxxq"
      },
      "execution_count": 94,
      "outputs": []
    },
    {
      "cell_type": "code",
      "source": [
        "alpha = 1e-5\n",
        "B1 = 0.1\n",
        "n = 10"
      ],
      "metadata": {
        "id": "ISoPDlMkkkra"
      },
      "execution_count": 91,
      "outputs": []
    },
    {
      "cell_type": "code",
      "source": [
        "for i in range(10):\n",
        "  B1 -= alpha * (2/n) * np.sum((B1*x - y)*x)\n",
        "  print('B1 = {}'.format(B1))"
      ],
      "metadata": {
        "colab": {
          "base_uri": "https://localhost:8080/"
        },
        "id": "GCXgbeoJox5b",
        "outputId": "02e66840-c975-45e3-b17e-aa24b55f128a"
      },
      "execution_count": 92,
      "outputs": [
        {
          "output_type": "stream",
          "name": "stdout",
          "text": [
            "B1 = 1.6952808000000004\n",
            "B1 = 2.8510106906144004\n",
            "B1 = 3.6883000130080337\n",
            "B1 = 4.294889333823904\n",
            "B1 = 4.734343885896736\n",
            "B1 = 5.0527146463278365\n",
            "B1 = 5.283364074395835\n",
            "B1 = 5.450462204249402\n",
            "B1 = 5.571519452188156\n",
            "B1 = 5.659221554487849\n"
          ]
        }
      ]
    },
    {
      "cell_type": "code",
      "source": [
        "for i in range(3000):\n",
        "  B1 -= alpha * (2/n) * np.sum((B1*x - y)*x)\n",
        "  if i % 500 == 0:\n",
        "    print('Iteration = {i}, B1 = {B1}, mse = {mse}'.format(i=i, B1=B1, mse = mse_(B1)))"
      ],
      "metadata": {
        "colab": {
          "base_uri": "https://localhost:8080/"
        },
        "id": "4bprbVKhnDmP",
        "outputId": "7fa41c51-6539-48dc-b0f7-06f385f38c29"
      },
      "execution_count": 95,
      "outputs": [
        {
          "output_type": "stream",
          "name": "stdout",
          "text": [
            "Iteration = 0, B1 = 5.768789710078065, mse = 56718.66401470576\n",
            "Iteration = 500, B1 = 5.889820420132688, mse = 56516.8584157194\n",
            "Iteration = 1000, B1 = 5.889820420132688, mse = 56516.8584157194\n",
            "Iteration = 1500, B1 = 5.889820420132688, mse = 56516.8584157194\n",
            "Iteration = 2000, B1 = 5.889820420132688, mse = 56516.8584157194\n",
            "Iteration = 2500, B1 = 5.889820420132688, mse = 56516.8584157194\n"
          ]
        }
      ]
    },
    {
      "cell_type": "code",
      "source": [
        "mse_(5.88982042)"
      ],
      "metadata": {
        "colab": {
          "base_uri": "https://localhost:8080/"
        },
        "id": "60QZroXYqEgO",
        "outputId": "9c494b9d-c9ae-4ae9-a57f-6ca7fb1a9a3c"
      },
      "execution_count": 96,
      "outputs": [
        {
          "output_type": "execute_result",
          "data": {
            "text/plain": [
              "56516.85841571943"
            ]
          },
          "metadata": {},
          "execution_count": 96
        }
      ]
    },
    {
      "cell_type": "markdown",
      "source": [
        "Задача 3\n",
        "\n",
        "Произвести вычисления как в пункте 2, но с вычислением intercept. Учесть, что изменение коэффициентов должно производиться на каждом шаге одновременно (то есть изменение одного коэффициента не должно влиять на изменение другого во время одной итерации)."
      ],
      "metadata": {
        "id": "-FEzRXd6vJhh"
      }
    },
    {
      "cell_type": "code",
      "source": [
        "# градиентный спуск (c intercept)\n",
        "x = np.array([35, 45, 190, 200, 40, 70, 54, 150, 120, 110])\n",
        "y = np.array([401, 574, 874, 919, 459, 739, 653, 902, 746, 832])\n",
        "\n",
        "def mse_(B1, B0, y=y, x=x, n=10):\n",
        "  return np.sum((B0 + B1*x - y)**2)/n"
      ],
      "metadata": {
        "id": "7v94hxSnrSCE"
      },
      "execution_count": 134,
      "outputs": []
    },
    {
      "cell_type": "code",
      "source": [
        "alpha = 1e-5\n",
        "B1 = 0.1\n",
        "B0 = 0.1\n",
        "n = 10"
      ],
      "metadata": {
        "id": "u_XRPo2Pripd"
      },
      "execution_count": 135,
      "outputs": []
    },
    {
      "cell_type": "code",
      "source": [
        "for i in range(2500000):\n",
        "  B1 -= alpha * (2/n) * np.sum((B0 + B1*x - y)*x)\n",
        "  B0 -= alpha * (2/n) * np.sum((B0 + B1*x - y))\n",
        "  if i % 100000 == 0:\n",
        "    print('B0 = {B0}, B1 = {B1}, mse = {mse}'.format(B0=B0, B1=B1, mse = mse_(B1, B0)))"
      ],
      "metadata": {
        "colab": {
          "base_uri": "https://localhost:8080/"
        },
        "id": "OLLHUmlIr6BP",
        "outputId": "3d04c0be-5bd3-4b43-d511-c4dd73aab795"
      },
      "execution_count": 136,
      "outputs": [
        {
          "output_type": "stream",
          "name": "stdout",
          "text": [
            "B0 = 0.110758381816, B1 = 1.6950780000000003, mse = 298808.8700218417\n",
            "B0 = 176.81283174262413, B1 = 4.588459999872217, mse = 24603.34326391016\n",
            "B0 = 283.193870141655, B1 = 3.805448523281312, mse = 13044.313642108338\n",
            "B0 = 347.2472089095093, B1 = 3.3339876302124964, mse = 8853.71111421085\n",
            "B0 = 385.8145162892279, B1 = 3.0501151962336612, mse = 7334.452999870819\n",
            "B0 = 409.03636900034104, B1 = 2.879192093262043, mse = 6783.662223932758\n",
            "B0 = 423.01853368783054, B1 = 2.776277179263722, mse = 6583.978920618605\n",
            "B0 = 431.4373679548657, B1 = 2.71431083686087, mse = 6511.585875265579\n",
            "B0 = 436.5064521775079, B1 = 2.677000135801095, mse = 6485.340551152369\n",
            "B0 = 439.5586104741486, B1 = 2.6545349012949466, mse = 6475.825589674406\n",
            "B0 = 441.3963527286912, B1 = 2.641008305785271, mse = 6472.376042184087\n",
            "B0 = 442.5028800663592, B1 = 2.6328637753539583, mse = 6471.125445645621\n",
            "B0 = 443.16913386011134, B1 = 2.6279598528628716, mse = 6470.672055249804\n",
            "B0 = 443.5702935084629, B1 = 2.6250071404873236, mse = 6470.507683412287\n",
            "B0 = 443.811836693626, B1 = 2.623229275851658, mse = 6470.448092161091\n",
            "B0 = 443.9572728324277, B1 = 2.622158801568773, mse = 6470.426487990493\n",
            "B0 = 444.0448417301183, B1 = 2.6215142557651583, mse = 6470.418655629563\n",
            "B0 = 444.09756804632934, B1 = 2.6211261667660954, mse = 6470.4158160909055\n",
            "B0 = 444.1293152133525, B1 = 2.620892493580512, mse = 6470.414786646541\n",
            "B0 = 444.14843057521875, B1 = 2.620751796065751, mse = 6470.414413432499\n",
            "B0 = 444.15994017099007, B1 = 2.6206670803521663, mse = 6470.414278127742\n",
            "B0 = 444.1668702409312, B1 = 2.6206160719734255, mse = 6470.414229074448\n",
            "B0 = 444.17104292174963, B1 = 2.620585359197745, mse = 6470.414211290707\n",
            "B0 = 444.1735553444618, B1 = 2.6205668666557727, mse = 6470.414204843399\n",
            "B0 = 444.17506810524486, B1 = 2.6205557320675763, mse = 6470.414202505994\n"
          ]
        }
      ]
    }
  ]
}