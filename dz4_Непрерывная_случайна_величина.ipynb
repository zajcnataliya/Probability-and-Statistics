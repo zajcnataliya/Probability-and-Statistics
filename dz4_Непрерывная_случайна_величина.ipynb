{
  "nbformat": 4,
  "nbformat_minor": 0,
  "metadata": {
    "colab": {
      "provenance": [],
      "authorship_tag": "ABX9TyMLSqeFBluaE5ycF6K/R08y",
      "include_colab_link": true
    },
    "kernelspec": {
      "name": "python3",
      "display_name": "Python 3"
    },
    "language_info": {
      "name": "python"
    }
  },
  "cells": [
    {
      "cell_type": "markdown",
      "metadata": {
        "id": "view-in-github",
        "colab_type": "text"
      },
      "source": [
        "<a href=\"https://colab.research.google.com/github/zajcnataliya/Probability-and-Statistics/blob/main/dz4_%D0%9D%D0%B5%D0%BF%D1%80%D0%B5%D1%80%D1%8B%D0%B2%D0%BD%D0%B0%D1%8F_%D1%81%D0%BB%D1%83%D1%87%D0%B0%D0%B9%D0%BD%D0%B0_%D0%B2%D0%B5%D0%BB%D0%B8%D1%87%D0%B8%D0%BD%D0%B0.ipynb\" target=\"_parent\"><img src=\"https://colab.research.google.com/assets/colab-badge.svg\" alt=\"Open In Colab\"/></a>"
      ]
    },
    {
      "cell_type": "markdown",
      "source": [
        "1) Случайная непрерывная величина A имеет равномерное распределение на промежутке (200, 800].\n",
        "Найдите ее среднее значение и дисперсию.\n"
      ],
      "metadata": {
        "id": "fDD00VsXjOdN"
      }
    },
    {
      "cell_type": "code",
      "source": [
        "a = 200\n",
        "b = 800\n",
        "M = (a+b)/2\n",
        "print(M)\n",
        "D = ((b-a)**2)/12\n",
        "print(D)"
      ],
      "metadata": {
        "colab": {
          "base_uri": "https://localhost:8080/"
        },
        "id": "XmckX6ZsjSHS",
        "outputId": "09814dc1-9a52-421f-d3a7-ed09dc1881f1"
      },
      "execution_count": 8,
      "outputs": [
        {
          "output_type": "stream",
          "name": "stdout",
          "text": [
            "500.0\n",
            "30000.0\n"
          ]
        }
      ]
    },
    {
      "cell_type": "markdown",
      "source": [
        "2) О случайной непрерывной равномерно распределенной величине B известно, что ее дисперсия равна 0.2.\n",
        "Можно ли найти правую границу величины B и ее среднее значение зная, что левая граница равна 0.5?\n",
        "Если да, найдите ее."
      ],
      "metadata": {
        "id": "iBoSBIcGksEm"
      }
    },
    {
      "cell_type": "code",
      "source": [
        "import numpy as np\n",
        "import math\n",
        "D = 0.2\n",
        "a = 0.5\n",
        "D = ((b-a)**2)/12\n",
        "c = np.sqrt(2.4)\n",
        "c\n",
        "b = c+a\n",
        "print(b)\n",
        "M = (a +b)/2\n",
        "print(M)"
      ],
      "metadata": {
        "colab": {
          "base_uri": "https://localhost:8080/"
        },
        "id": "vs2KSjFDk0fd",
        "outputId": "51e34386-b203-4500-c853-aeb44380d691"
      },
      "execution_count": 17,
      "outputs": [
        {
          "output_type": "stream",
          "name": "stdout",
          "text": [
            "2.049193338482967\n",
            "1.2745966692414834\n"
          ]
        }
      ]
    },
    {
      "cell_type": "markdown",
      "source": [
        "3) Непрерывная случайная величина X распределена нормально и задана плотностью распределения\n",
        "f(x) = (1 / (4 * sqrt(2pi))) * exp((-(x+2)**2) / 32)\n",
        "Найдите:\n",
        "а). M(X)\n",
        "б). D(X)\n",
        "в). std(X) (среднее квадратичное отклонение)"
      ],
      "metadata": {
        "id": "AYsnZk_JqmPQ"
      }
    },
    {
      "cell_type": "code",
      "source": [
        "f(x) = (1 / (4 * sqrt(2pi))) * exp((-(x+2)**2) / 32) \n",
        "M(X) = -2\n",
        "D(X) = 16\n",
        "std(X) = 4"
      ],
      "metadata": {
        "id": "S700ZWZlqwJN"
      },
      "execution_count": null,
      "outputs": []
    },
    {
      "cell_type": "markdown",
      "source": [
        "4) Рост взрослого населения города X имеет нормальное распределение.\n",
        "Причем, средний рост равен 174 см, а среднее квадратичное отклонение равно 8 см.\n",
        "Какова вероятность того, что случайным образом выбранный взрослый человек имеет рост:\n",
        "а). больше 182 см\n",
        "б). больше 190 см\n",
        "в). от 166 см до 190 см\n",
        "г). от 166 см до 182 см\n",
        "д). от 158 см до 190 см\n",
        "е). не выше 150 см или не ниже 190 см\n",
        "ё). не выше 150 см или не ниже 198 см\n",
        "ж). ниже 166 см."
      ],
      "metadata": {
        "id": "Q9-RSCYgtB7O"
      }
    },
    {
      "cell_type": "code",
      "source": [
        "M = 174\n",
        "std = 8\n",
        "# а). больше 182 см\n",
        "z = (182-M)/std\n",
        "z\n",
        "# находим в z таблице вероятность для 1: 0.84134\n",
        "1-0.84134"
      ],
      "metadata": {
        "colab": {
          "base_uri": "https://localhost:8080/"
        },
        "id": "ZRFMAXNKtHEd",
        "outputId": "ab9147f7-580c-46f3-b725-6557396a9b43"
      },
      "execution_count": 23,
      "outputs": [
        {
          "output_type": "execute_result",
          "data": {
            "text/plain": [
              "0.15866000000000002"
            ]
          },
          "metadata": {},
          "execution_count": 23
        }
      ]
    },
    {
      "cell_type": "code",
      "source": [
        "# б). больше 190 см \n",
        "z = (190-M)/std\n",
        "z\n",
        "# находим в z таблице вероятность для 2: 0.97725\n",
        "1-0.97725\n"
      ],
      "metadata": {
        "colab": {
          "base_uri": "https://localhost:8080/"
        },
        "id": "JIowa_USvDv7",
        "outputId": "9b427457-481d-46ba-9e05-b5075859bce6"
      },
      "execution_count": 25,
      "outputs": [
        {
          "output_type": "execute_result",
          "data": {
            "text/plain": [
              "0.022750000000000048"
            ]
          },
          "metadata": {},
          "execution_count": 25
        }
      ]
    },
    {
      "cell_type": "code",
      "source": [
        "# в). от 166 см до 190 см\n",
        "z = (166-M)/std\n",
        "z\n",
        "# находим в z таблице вероятность для -1: 0.1587\n",
        "0.1587 - 0.02275\n"
      ],
      "metadata": {
        "colab": {
          "base_uri": "https://localhost:8080/"
        },
        "id": "KnTssdiOvfoK",
        "outputId": "c90ed300-7eab-4eb0-f20d-17dec0dd8775"
      },
      "execution_count": 28,
      "outputs": [
        {
          "output_type": "execute_result",
          "data": {
            "text/plain": [
              "0.13595000000000002"
            ]
          },
          "metadata": {},
          "execution_count": 28
        }
      ]
    },
    {
      "cell_type": "code",
      "source": [
        "# г). от 166 см до 182 см \n",
        "0.1587+0.1587"
      ],
      "metadata": {
        "colab": {
          "base_uri": "https://localhost:8080/"
        },
        "id": "i1PMLKxvwwy-",
        "outputId": "280b2016-00b0-4098-e144-3703882ee55f"
      },
      "execution_count": 30,
      "outputs": [
        {
          "output_type": "execute_result",
          "data": {
            "text/plain": [
              "0.3174"
            ]
          },
          "metadata": {},
          "execution_count": 30
        }
      ]
    },
    {
      "cell_type": "code",
      "source": [
        "# д). от 158 см до 190 см\n",
        "z = (158-M)/std\n",
        "z\n",
        "# находим в z таблице вероятность для -2: 0.0228\n",
        "0.0228+0.0228"
      ],
      "metadata": {
        "colab": {
          "base_uri": "https://localhost:8080/"
        },
        "id": "6LRqym319pY9",
        "outputId": "0e1196b5-00c1-475e-9c3e-978216140729"
      },
      "execution_count": 33,
      "outputs": [
        {
          "output_type": "execute_result",
          "data": {
            "text/plain": [
              "0.0456"
            ]
          },
          "metadata": {},
          "execution_count": 33
        }
      ]
    },
    {
      "cell_type": "code",
      "source": [
        "# е). не выше 150 см или не ниже 190 см\n",
        "z = (150-M)/std\n",
        "z\n",
        "\n",
        "# находим в z таблице вероятность для -3: 0.0013\n",
        "0.02275+0.0013"
      ],
      "metadata": {
        "colab": {
          "base_uri": "https://localhost:8080/"
        },
        "id": "bxuAX23l-SH1",
        "outputId": "29f6f961-5b2f-4605-cae7-53f6fc33015c"
      },
      "execution_count": 37,
      "outputs": [
        {
          "output_type": "execute_result",
          "data": {
            "text/plain": [
              "0.02405"
            ]
          },
          "metadata": {},
          "execution_count": 37
        }
      ]
    },
    {
      "cell_type": "code",
      "source": [
        "# ё).не выше 150 см или не ниже 198 см\n",
        "z = (198-M)/std\n",
        "z\n",
        "\n",
        "# находим в z таблице вероятность для 3: 0.0013\n",
        "1-0.99865\n",
        "0.0013+0.0013"
      ],
      "metadata": {
        "colab": {
          "base_uri": "https://localhost:8080/"
        },
        "id": "X4bewtuOAj1Y",
        "outputId": "8981c4c6-e4b8-41a5-df79-8fc1500c009a"
      },
      "execution_count": 40,
      "outputs": [
        {
          "output_type": "execute_result",
          "data": {
            "text/plain": [
              "0.0026"
            ]
          },
          "metadata": {},
          "execution_count": 40
        }
      ]
    },
    {
      "cell_type": "code",
      "source": [
        "# ж). ниже 166 см.\n",
        "z = (166-M)/std\n",
        "z\n",
        "\n",
        "# находим в z таблице вероятность для -1: 0.1587"
      ],
      "metadata": {
        "colab": {
          "base_uri": "https://localhost:8080/"
        },
        "id": "YNmm378uCHo7",
        "outputId": "dc572b21-9ad5-4811-9435-02e822c932c9"
      },
      "execution_count": 41,
      "outputs": [
        {
          "output_type": "execute_result",
          "data": {
            "text/plain": [
              "-1.0"
            ]
          },
          "metadata": {},
          "execution_count": 41
        }
      ]
    },
    {
      "cell_type": "markdown",
      "source": [
        "5) На сколько сигм (средних квадратичных отклонений) отклоняется рост человека, равный 190 см, от математического ожидания роста в популяции, в которой M(X) = 178 см и D(X) = 25 кв.см?"
      ],
      "metadata": {
        "id": "eZVRTXruCwKC"
      }
    },
    {
      "cell_type": "code",
      "source": [
        "X = 190\n",
        "M = 178\n",
        "std = 25\n",
        "z= (X-M)/std\n",
        "z"
      ],
      "metadata": {
        "id": "oETIQqY5Cx5-",
        "outputId": "2dd4512a-f44d-4bc4-f475-ff1ac206a0f1",
        "colab": {
          "base_uri": "https://localhost:8080/"
        }
      },
      "execution_count": 44,
      "outputs": [
        {
          "output_type": "execute_result",
          "data": {
            "text/plain": [
              "0.48"
            ]
          },
          "metadata": {},
          "execution_count": 44
        }
      ]
    }
  ]
}