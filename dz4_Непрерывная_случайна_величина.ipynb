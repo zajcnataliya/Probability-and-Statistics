{
  "cells": [
    {
      "cell_type": "markdown",
      "metadata": {
        "id": "view-in-github",
        "colab_type": "text"
      },
      "source": [
        "<a href=\"https://colab.research.google.com/github/zajcnataliya/Probability-and-Statistics/blob/main/dz4_%D0%9D%D0%B5%D0%BF%D1%80%D0%B5%D1%80%D1%8B%D0%B2%D0%BD%D0%B0%D1%8F_%D1%81%D0%BB%D1%83%D1%87%D0%B0%D0%B9%D0%BD%D0%B0_%D0%B2%D0%B5%D0%BB%D0%B8%D1%87%D0%B8%D0%BD%D0%B0.ipynb\" target=\"_parent\"><img src=\"https://colab.research.google.com/assets/colab-badge.svg\" alt=\"Open In Colab\"/></a>"
      ]
    },
    {
      "cell_type": "markdown",
      "metadata": {
        "id": "fDD00VsXjOdN"
      },
      "source": [
        "1) Случайная непрерывная величина A имеет равномерное распределение на промежутке (200, 800].\n",
        "Найдите ее среднее значение и дисперсию.\n"
      ]
    },
    {
      "cell_type": "code",
      "execution_count": null,
      "metadata": {
        "colab": {
          "base_uri": "https://localhost:8080/"
        },
        "id": "XmckX6ZsjSHS",
        "outputId": "09814dc1-9a52-421f-d3a7-ed09dc1881f1"
      },
      "outputs": [
        {
          "name": "stdout",
          "output_type": "stream",
          "text": [
            "500.0\n",
            "30000.0\n"
          ]
        }
      ],
      "source": [
        "a = 200\n",
        "b = 800\n",
        "M = (a+b)/2\n",
        "print(M)\n",
        "D = ((b-a)**2)/12\n",
        "print(D)"
      ]
    },
    {
      "cell_type": "markdown",
      "metadata": {
        "id": "iBoSBIcGksEm"
      },
      "source": [
        "2) О случайной непрерывной равномерно распределенной величине B известно, что ее дисперсия равна 0.2.\n",
        "Можно ли найти правую границу величины B и ее среднее значение зная, что левая граница равна 0.5?\n",
        "Если да, найдите ее."
      ]
    },
    {
      "cell_type": "code",
      "execution_count": null,
      "metadata": {
        "colab": {
          "base_uri": "https://localhost:8080/"
        },
        "id": "vs2KSjFDk0fd",
        "outputId": "51e34386-b203-4500-c853-aeb44380d691"
      },
      "outputs": [
        {
          "name": "stdout",
          "output_type": "stream",
          "text": [
            "2.049193338482967\n",
            "1.2745966692414834\n"
          ]
        }
      ],
      "source": [
        "import numpy as np\n",
        "import math\n",
        "D = 0.2\n",
        "a = 0.5\n",
        "D = ((b-a)**2)/12\n",
        "c = np.sqrt(2.4)\n",
        "c\n",
        "b = c+a\n",
        "print(b)\n",
        "M = (a +b)/2\n",
        "print(M)"
      ]
    },
    {
      "cell_type": "markdown",
      "metadata": {
        "id": "AYsnZk_JqmPQ"
      },
      "source": [
        "3) Непрерывная случайная величина X распределена нормально и задана плотностью распределения\n",
        "f(x) = (1 / (4 * sqrt(2pi))) * exp((-(x+2)**2) / 32)\n",
        "Найдите:\n",
        "а). M(X)\n",
        "б). D(X)\n",
        "в). std(X) (среднее квадратичное отклонение)"
      ]
    },
    {
      "cell_type": "code",
      "execution_count": null,
      "metadata": {
        "id": "S700ZWZlqwJN"
      },
      "outputs": [],
      "source": [
        "f(x) = (1 / (4 * sqrt(2pi))) * exp((-(x+2)**2) / 32) \n",
        "M(X) = -2\n",
        "D(X) = 16\n",
        "std(X) = 4"
      ]
    },
    {
      "cell_type": "markdown",
      "metadata": {
        "id": "Q9-RSCYgtB7O"
      },
      "source": [
        "4) Рост взрослого населения города X имеет нормальное распределение.\n",
        "Причем, средний рост равен 174 см, а среднее квадратичное отклонение равно 8 см.\n",
        "Какова вероятность того, что случайным образом выбранный взрослый человек имеет рост:\n",
        "а). больше 182 см\n",
        "б). больше 190 см\n",
        "в). от 166 см до 190 см\n",
        "г). от 166 см до 182 см\n",
        "д). от 158 см до 190 см\n",
        "е). не выше 150 см или не ниже 190 см\n",
        "ё). не выше 150 см или не ниже 198 см\n",
        "ж). ниже 166 см."
      ]
    },
    {
      "cell_type": "code",
      "execution_count": null,
      "metadata": {
        "colab": {
          "base_uri": "https://localhost:8080/"
        },
        "id": "ZRFMAXNKtHEd",
        "outputId": "ab9147f7-580c-46f3-b725-6557396a9b43"
      },
      "outputs": [
        {
          "data": {
            "text/plain": [
              "0.15866000000000002"
            ]
          },
          "execution_count": 23,
          "metadata": {},
          "output_type": "execute_result"
        }
      ],
      "source": [
        "M = 174\n",
        "std = 8\n",
        "# а). больше 182 см\n",
        "z = (182-M)/std\n",
        "z\n",
        "# находим в z таблице вероятность для 1: 0.84134\n",
        "1-0.84134"
      ]
    },
    {
      "cell_type": "code",
      "execution_count": null,
      "metadata": {
        "colab": {
          "base_uri": "https://localhost:8080/"
        },
        "id": "JIowa_USvDv7",
        "outputId": "9b427457-481d-46ba-9e05-b5075859bce6"
      },
      "outputs": [
        {
          "data": {
            "text/plain": [
              "0.022750000000000048"
            ]
          },
          "execution_count": 25,
          "metadata": {},
          "output_type": "execute_result"
        }
      ],
      "source": [
        "# б). больше 190 см \n",
        "z = (190-M)/std\n",
        "z\n",
        "# находим в z таблице вероятность для 2: 0.97725\n",
        "1-0.97725\n"
      ]
    },
    {
      "cell_type": "code",
      "execution_count": 4,
      "metadata": {
        "colab": {
          "base_uri": "https://localhost:8080/"
        },
        "id": "KnTssdiOvfoK",
        "outputId": "91a10efb-b81b-4f4c-ebda-99235ad87bca"
      },
      "outputs": [
        {
          "output_type": "execute_result",
          "data": {
            "text/plain": [
              "0.8185499999999999"
            ]
          },
          "metadata": {},
          "execution_count": 4
        }
      ],
      "source": [
        "# в). от 166 см до 190 см\n",
        "M = 174\n",
        "std = 8\n",
        "z = (166-M)/std\n",
        "z\n",
        "# находим в z таблице вероятность для -1: 0.1587\n",
        "# Р(<190)-Р(<166)\n",
        "0.97725-0.1587\n"
      ]
    },
    {
      "cell_type": "code",
      "execution_count": 5,
      "metadata": {
        "colab": {
          "base_uri": "https://localhost:8080/"
        },
        "id": "i1PMLKxvwwy-",
        "outputId": "b75c7668-16b2-448f-ff03-5d9a985fd815"
      },
      "outputs": [
        {
          "output_type": "execute_result",
          "data": {
            "text/plain": [
              "0.6826399999999999"
            ]
          },
          "metadata": {},
          "execution_count": 5
        }
      ],
      "source": [
        "# г). от 166 см до 182 см\n",
        "\n",
        "# P(<182) - P(<166) \n",
        "0.84134-0.1587"
      ]
    },
    {
      "cell_type": "code",
      "execution_count": 6,
      "metadata": {
        "colab": {
          "base_uri": "https://localhost:8080/"
        },
        "id": "6LRqym319pY9",
        "outputId": "92e26a84-e4df-4ea7-e6f4-ad5decb8a915"
      },
      "outputs": [
        {
          "output_type": "execute_result",
          "data": {
            "text/plain": [
              "0.9544499999999999"
            ]
          },
          "metadata": {},
          "execution_count": 6
        }
      ],
      "source": [
        "# д). от 158 см до 190 см\n",
        "z = (158-M)/std\n",
        "z\n",
        "# находим в z таблице вероятность для -2: 0.0228\n",
        "# P(<190) - P(<158)\n",
        "0.97725-0.0228"
      ]
    },
    {
      "cell_type": "code",
      "execution_count": null,
      "metadata": {
        "colab": {
          "base_uri": "https://localhost:8080/"
        },
        "id": "bxuAX23l-SH1",
        "outputId": "29f6f961-5b2f-4605-cae7-53f6fc33015c"
      },
      "outputs": [
        {
          "data": {
            "text/plain": [
              "0.02405"
            ]
          },
          "execution_count": 37,
          "metadata": {},
          "output_type": "execute_result"
        }
      ],
      "source": [
        "# е). не выше 150 см или не ниже 190 см\n",
        "z = (150-M)/std\n",
        "z\n",
        "\n",
        "# находим в z таблице вероятность для -3: 0.0013\n",
        "0.02275+0.0013"
      ]
    },
    {
      "cell_type": "code",
      "execution_count": null,
      "metadata": {
        "colab": {
          "background_save": true,
          "base_uri": "https://localhost:8080/"
        },
        "id": "X4bewtuOAj1Y",
        "outputId": "1b763138-6d7b-4012-c34e-fd53133d930e"
      },
      "outputs": [
        {
          "data": {
            "text/plain": [
              "0.0026"
            ]
          },
          "execution_count": 40,
          "metadata": {},
          "output_type": "execute_result"
        }
      ],
      "source": [
        "# ё).не выше 150 см или не ниже 198 см\n",
        "z = (198-M)/std\n",
        "z\n",
        "\n",
        "# находим в z таблице вероятность для 3: \n",
        "1-0.99865\n",
        "0.0013+0.0013"
      ]
    },
    {
      "cell_type": "markdown",
      "source": [
        "5. На сколько сигм (средних квадратичных отклонений) отклоняется рост человека, равный 190 см, от математического ожидания роста в популяции, в которой M(X) = 178 см и D(X) = 25 кв.см?"
      ],
      "metadata": {
        "id": "4Q8rEBJwepSj"
      }
    },
    {
      "cell_type": "code",
      "source": [
        "X = 190\n",
        "M = 178\n",
        "std = 5\n",
        "z= (X-M)/std\n",
        "z"
      ],
      "metadata": {
        "colab": {
          "base_uri": "https://localhost:8080/"
        },
        "id": "3bMLmRnyesea",
        "outputId": "4290b83f-7c9d-47f0-8358-7508acd0abc7"
      },
      "execution_count": 7,
      "outputs": [
        {
          "output_type": "execute_result",
          "data": {
            "text/plain": [
              "2.4"
            ]
          },
          "metadata": {},
          "execution_count": 7
        }
      ]
    }
  ],
  "metadata": {
    "colab": {
      "provenance": [],
      "authorship_tag": "ABX9TyN9NvaHwrIRoZmIaCb6HdSB",
      "include_colab_link": true
    },
    "kernelspec": {
      "display_name": "Python 3",
      "name": "python3"
    },
    "language_info": {
      "name": "python"
    }
  },
  "nbformat": 4,
  "nbformat_minor": 0
}