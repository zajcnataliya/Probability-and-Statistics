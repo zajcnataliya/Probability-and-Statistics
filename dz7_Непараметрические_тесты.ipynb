{
  "nbformat": 4,
  "nbformat_minor": 0,
  "metadata": {
    "colab": {
      "provenance": [],
      "authorship_tag": "ABX9TyOg8SMaK/WLnnHRPzMLN99b",
      "include_colab_link": true
    },
    "kernelspec": {
      "name": "python3",
      "display_name": "Python 3"
    },
    "language_info": {
      "name": "python"
    }
  },
  "cells": [
    {
      "cell_type": "markdown",
      "metadata": {
        "id": "view-in-github",
        "colab_type": "text"
      },
      "source": [
        "<a href=\"https://colab.research.google.com/github/zajcnataliya/Probability-and-Statistics/blob/main/dz7_%D0%9D%D0%B5%D0%BF%D0%B0%D1%80%D0%B0%D0%BC%D0%B5%D1%82%D1%80%D0%B8%D1%87%D0%B5%D1%81%D0%BA%D0%B8%D0%B5_%D1%82%D0%B5%D1%81%D1%82%D1%8B.ipynb\" target=\"_parent\"><img src=\"https://colab.research.google.com/assets/colab-badge.svg\" alt=\"Open In Colab\"/></a>"
      ]
    },
    {
      "cell_type": "markdown",
      "source": [
        "1-4 задачи решать с помощью функций, 5ю вручную\n",
        "\n",
        "Выбрать тест и проверить, есть  ли различия между выборками:\n",
        "\n",
        "1 )  Даны две  независимые выборки. Не соблюдается условие нормальности\n",
        "\n",
        "x1  380,420, 290\n",
        "\n",
        "y1 140,360,200,900\n",
        "\n",
        "Сделайте вывод по результатам, полученным с помощью функции"
      ],
      "metadata": {
        "id": "SezjAgxMY78a"
      }
    },
    {
      "cell_type": "code",
      "source": [
        "import numpy as np\n",
        "import scipy.stats as stats\n"
      ],
      "metadata": {
        "id": "QE4wM2CoZAGE"
      },
      "execution_count": 2,
      "outputs": []
    },
    {
      "cell_type": "code",
      "source": [
        "# критерий Манна-Уитни\n",
        "x1 = np.array([380,420, 290])\n",
        "y1 = np.array([140,360,200,900])\n",
        "\n",
        "stats.mannwhitneyu(x1, y1)\n",
        "# вывод: pvalue > 0.05, соответственно верна нулевая гипотеза, \n",
        "# статистически значимых различий нет"
      ],
      "metadata": {
        "colab": {
          "base_uri": "https://localhost:8080/"
        },
        "id": "b0aH8bEvZmPq",
        "outputId": "3cafd516-cc32-41a8-80c4-d67ad1cbaa62"
      },
      "execution_count": 4,
      "outputs": [
        {
          "output_type": "execute_result",
          "data": {
            "text/plain": [
              "MannwhitneyuResult(statistic=8.0, pvalue=0.6285714285714286)"
            ]
          },
          "metadata": {},
          "execution_count": 4
        }
      ]
    },
    {
      "cell_type": "code",
      "source": [
        "# вывод: pvalue > 0.05, соответственно верна нулевая гипотеза, \n",
        "# статистически значимых различий нет"
      ],
      "metadata": {
        "id": "reaHe51mdEfa"
      },
      "execution_count": null,
      "outputs": []
    },
    {
      "cell_type": "markdown",
      "source": [
        "2 ) Исследовалось влияние препарата на уровень давления пациентов. Сначала измерялось давление до приема препарата, потом через 10 минут и через 30 минут. Есть ли статистически значимые различия?\n",
        "\n",
        "1е измерение до приема препарата: 150, 160, 165, 145, 155\n",
        "\n",
        "2е измерение через 10 минут: 140, 155, 150,  130, 135\n",
        "\n",
        "3е измерение через 30 минут: 130, 130, 120, 130, 125"
      ],
      "metadata": {
        "id": "DWf8gTp_bViO"
      }
    },
    {
      "cell_type": "code",
      "source": [
        "# критерий Фридмана\n",
        "x1 = np.array([150, 160, 165, 145, 155])\n",
        "x2 = np.array([140, 155, 150, 130, 135])\n",
        "x3 = np.array([130, 130, 120, 130, 125])\n",
        "\n",
        "stats.friedmanchisquare(x1, x2, x3)"
      ],
      "metadata": {
        "colab": {
          "base_uri": "https://localhost:8080/"
        },
        "id": "LwoeCNYvbX1z",
        "outputId": "06213761-bb34-48a6-92f8-6c2dbe14af3b"
      },
      "execution_count": 5,
      "outputs": [
        {
          "output_type": "execute_result",
          "data": {
            "text/plain": [
              "FriedmanchisquareResult(statistic=9.578947368421062, pvalue=0.00831683351100441)"
            ]
          },
          "metadata": {},
          "execution_count": 5
        }
      ]
    },
    {
      "cell_type": "code",
      "source": [
        "# вывод: pvalue < 0.05, соответственно верна альтернативная гипотеза, \n",
        "# статистически значимые различия есть"
      ],
      "metadata": {
        "id": "VgnfzF66dF6s"
      },
      "execution_count": null,
      "outputs": []
    },
    {
      "cell_type": "markdown",
      "source": [
        "3 ) Сравните 1 и 2 е измерения, предполагая, что 3го измерения через 30 минут не было."
      ],
      "metadata": {
        "id": "ayfKeb0YdmRI"
      }
    },
    {
      "cell_type": "code",
      "source": [
        "# критерий Уилкоксона\n",
        "x1 = np.array([150, 160, 165, 145, 155])\n",
        "x2 = np.array([140, 155, 150, 130, 135])\n",
        "\n",
        "stats.wilcoxon(x1, x2)"
      ],
      "metadata": {
        "colab": {
          "base_uri": "https://localhost:8080/"
        },
        "id": "Vbz3J2mLdoMI",
        "outputId": "27672c3d-7f72-4341-c49f-5d76310f627a"
      },
      "execution_count": 6,
      "outputs": [
        {
          "output_type": "execute_result",
          "data": {
            "text/plain": [
              "WilcoxonResult(statistic=0.0, pvalue=0.0625)"
            ]
          },
          "metadata": {},
          "execution_count": 6
        }
      ]
    },
    {
      "cell_type": "code",
      "source": [
        "# вывод: pvalue > 0.05, соответственно верна нулевая гипотеза, \n",
        "# статистически значимых различий нет"
      ],
      "metadata": {
        "id": "XnaqLGc5eXsO"
      },
      "execution_count": null,
      "outputs": []
    },
    {
      "cell_type": "markdown",
      "source": [
        "4) Даны 3 группы  учеников плавания.\n",
        "\n",
        "В 1 группе время на дистанцию 50 м составляют:\n",
        "\n",
        "56, 60, 62, 55, 71, 67, 59, 58, 64, 67\n",
        "\n",
        "Вторая группа : 57, 58, 69, 48, 72, 70, 68, 71, 50, 53\n",
        "\n",
        "Третья группа: 57, 67, 49, 48, 47, 55, 66, 51, 54"
      ],
      "metadata": {
        "id": "bnoLYkCSe-LS"
      }
    },
    {
      "cell_type": "code",
      "source": [
        "# критерий Крускала-Уоллиса\n",
        "x1 = np.array([56, 60, 62, 55, 71, 67, 59, 58, 64, 67])\n",
        "x2 = np.array([57, 58, 69, 48, 72, 70, 68, 71, 50, 53])\n",
        "x3 = np.array([57, 67, 49, 48, 47, 55, 66, 51, 54])\n",
        "\n",
        "stats.kruskal(x1, x2, x3)"
      ],
      "metadata": {
        "colab": {
          "base_uri": "https://localhost:8080/"
        },
        "id": "89e9UkWifALF",
        "outputId": "8f9fa4fd-cbd4-4f55-d85e-291c3a1a75ea"
      },
      "execution_count": 3,
      "outputs": [
        {
          "output_type": "execute_result",
          "data": {
            "text/plain": [
              "KruskalResult(statistic=5.465564058257224, pvalue=0.0650380998590494)"
            ]
          },
          "metadata": {},
          "execution_count": 3
        }
      ]
    },
    {
      "cell_type": "code",
      "source": [
        "# вывод: pvalue > 0.05, соответственно верна нулевая гипотеза, \n",
        "# статистически значимых различий нет"
      ],
      "metadata": {
        "id": "VwWenoBn_R2h"
      },
      "execution_count": null,
      "outputs": []
    },
    {
      "cell_type": "markdown",
      "source": [
        "5) Заявляется, что партия изготавливается со средним арифметическим 2,5 см. Проверить данную гипотезу, если известно, что размеры изделий подчинены нормальному закону распределения. Объем выборки 10, уровень статистической значимости 5%\n",
        "\n",
        "2.51, 2.35, 2.74, 2.56, 2.40, 2.36, 2.65, 2.7, 2.67, 2.34"
      ],
      "metadata": {
        "id": "jzU1T8HO_gNU"
      }
    },
    {
      "cell_type": "code",
      "source": [
        "M = 2.5\n",
        "n = 10\n",
        "alfa = 0.05\n",
        "\n",
        "a = np.array([2.51, 2.35, 2.74, 2.56, 2.40, 2.36, 2.65, 2.7, 2.67, 2.34])\n",
        "x = np.mean(a)\n",
        "x"
      ],
      "metadata": {
        "colab": {
          "base_uri": "https://localhost:8080/"
        },
        "id": "vd1QM3qw_in8",
        "outputId": "de1d7250-f445-4e71-c337-b3c24c9e70ec"
      },
      "execution_count": 4,
      "outputs": [
        {
          "output_type": "execute_result",
          "data": {
            "text/plain": [
              "2.5279999999999996"
            ]
          },
          "metadata": {},
          "execution_count": 4
        }
      ]
    },
    {
      "cell_type": "code",
      "source": [
        "D = np.var(a, ddof=1) # несмещенная дисперсия\n",
        "D"
      ],
      "metadata": {
        "colab": {
          "base_uri": "https://localhost:8080/"
        },
        "id": "CU7R7fhOC3dk",
        "outputId": "22ad7c99-98a1-4762-aedc-a48ddb9743b9"
      },
      "execution_count": 5,
      "outputs": [
        {
          "output_type": "execute_result",
          "data": {
            "text/plain": [
              "0.02472888888888891"
            ]
          },
          "metadata": {},
          "execution_count": 5
        }
      ]
    },
    {
      "cell_type": "code",
      "source": [
        "alfa = 0.05 # 0.05/2=0.025, 1-0.025 = 0.975\n",
        "t = stats.t.ppf(0.975, 9) # критерий Стьюдента\n",
        "t"
      ],
      "metadata": {
        "colab": {
          "base_uri": "https://localhost:8080/"
        },
        "id": "91g6ack5DB7q",
        "outputId": "bd6efc50-ed8d-4cb9-9efe-5e16945f7ddb"
      },
      "execution_count": 6,
      "outputs": [
        {
          "output_type": "execute_result",
          "data": {
            "text/plain": [
              "2.2621571627409915"
            ]
          },
          "metadata": {},
          "execution_count": 6
        }
      ]
    },
    {
      "cell_type": "code",
      "source": [
        "\n",
        "int_verh = x + t*np.sqrt(D/10)\n",
        "int_niz = x - t*np.sqrt(D/10)\n",
        "print(f'[{int_niz}; {int_verh}]')"
      ],
      "metadata": {
        "colab": {
          "base_uri": "https://localhost:8080/"
        },
        "id": "lCKGsKKGDN5y",
        "outputId": "be7ad453-1cbe-4ed4-f4f3-a84edad3a111"
      },
      "execution_count": 7,
      "outputs": [
        {
          "output_type": "stream",
          "name": "stdout",
          "text": [
            "[2.4155071095954663; 2.640492890404533]\n"
          ]
        }
      ]
    },
    {
      "cell_type": "code",
      "source": [
        "# вывод: данная гипотеза верна"
      ],
      "metadata": {
        "id": "NRp6QpmgDeiy"
      },
      "execution_count": null,
      "outputs": []
    }
  ]
}