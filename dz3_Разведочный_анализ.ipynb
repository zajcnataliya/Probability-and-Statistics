{
  "cells": [
    {
      "cell_type": "markdown",
      "metadata": {
        "id": "104CIo5jU-iA"
      },
      "source": [
        "1. Даны значения зарплат из выборки выпускников: 100, 80, 75, 77, 89, 33, 45, 25, 65, 17, 30, 24, 57, 55, 70, 75, 65, 84, 90, 150. Посчитать (желательно без использования статистических методов наподобие std, var, mean) среднее арифметическое, среднее квадратичное отклонение, смещенную и несмещенную оценки дисперсий для данной выборки."
      ]
    },
    {
      "cell_type": "code",
      "execution_count": null,
      "metadata": {
        "id": "7iFcJVSYVEsn"
      },
      "outputs": [],
      "source": [
        "import numpy as np\n",
        "x = np.array([100, 80, 75, 77, 89, 33, 45, 25, 65, 17, 30, 24, 57, 55, 70, 75, 65, 84, 90, 150])\n"
      ]
    },
    {
      "cell_type": "code",
      "execution_count": 4,
      "metadata": {
        "colab": {
          "base_uri": "https://localhost:8080/"
        },
        "id": "fllmidXSZyqg",
        "outputId": "4c5ee84b-be59-4675-ca51-3910e3838953"
      },
      "outputs": [
        {
          "data": {
            "text/plain": [
              "65.3"
            ]
          },
          "execution_count": 4,
          "metadata": {},
          "output_type": "execute_result"
        }
      ],
      "source": [
        "# среднее арифметическое\n",
        "x_mean = x.sum() / x.size\n",
        "x_mean"
      ]
    },
    {
      "cell_type": "code",
      "execution_count": 7,
      "metadata": {
        "colab": {
          "base_uri": "https://localhost:8080/"
        },
        "id": "lO3WCTKgZqFc",
        "outputId": "dc919083-bbcf-4b8f-93a7-e809d226d5ad"
      },
      "outputs": [
        {
          "data": {
            "text/plain": [
              "30.82"
            ]
          },
          "execution_count": 7,
          "metadata": {},
          "output_type": "execute_result"
        }
      ],
      "source": [
        "# среднее квадратичное отклонение\n",
        "round((np.sum((x - x_mean)**2) / x.size)**0.5, 2)\n"
      ]
    },
    {
      "cell_type": "code",
      "execution_count": 11,
      "metadata": {
        "colab": {
          "base_uri": "https://localhost:8080/"
        },
        "id": "mFu7fSA8d36C",
        "outputId": "84c57c4d-9a4c-4ddd-bea3-5f5ec94f4e99"
      },
      "outputs": [
        {
          "data": {
            "text/plain": [
              "950.11"
            ]
          },
          "execution_count": 11,
          "metadata": {},
          "output_type": "execute_result"
        }
      ],
      "source": [
        "# смещенная оценка дисперсии\n",
        "np.sum((x - x_mean)**2) / x.size"
      ]
    },
    {
      "cell_type": "code",
      "execution_count": 13,
      "metadata": {
        "colab": {
          "base_uri": "https://localhost:8080/"
        },
        "id": "9JEuWtZIevYl",
        "outputId": "744ee5cf-ca5b-4989-a7c1-8a91b8b8168c"
      },
      "outputs": [
        {
          "data": {
            "text/plain": [
              "1000.12"
            ]
          },
          "execution_count": 13,
          "metadata": {},
          "output_type": "execute_result"
        }
      ],
      "source": [
        "# несмещенная оценка дисперсии\n",
        "round(np.sum((x - x_mean)**2) / (x.size - 1), 2)"
      ]
    },
    {
      "cell_type": "markdown",
      "metadata": {
        "id": "XlBu6jRSf1-U"
      },
      "source": [
        "2. В первом ящике находится 8 мячей, из которых 5 - белые. Во втором ящике - 12 мячей, из которых 5 белых. Из первого ящика вытаскивают случайным образом два мяча, из второго - 4. Какова вероятность того, что 3 мяча белые?"
      ]
    },
    {
      "cell_type": "code",
      "execution_count": 32,
      "metadata": {
        "colab": {
          "base_uri": "https://localhost:8080/"
        },
        "id": "rHuj5BBGf_Ma",
        "outputId": "f60c54a7-c54e-49b9-ee92-968035686b35"
      },
      "outputs": [
        {
          "data": {
            "text/plain": [
              "0.12626262626262627"
            ]
          },
          "execution_count": 32,
          "metadata": {},
          "output_type": "execute_result"
        }
      ],
      "source": [
        "import numpy as np\n",
        "import math\n",
        "\n",
        "def combination(k, n):\n",
        "  return np.math.factorial(n) // (np.math.factorial(k) * np.math.factorial(n - k))\n",
        "\n",
        "# p1 = бб*бччч\n",
        "p1 = (combination(2, 5) / combination(2, 8)) * ((combination(1, 5) * combination(3, 7))/combination(4, 12))\n",
        "p1 "
      ]
    },
    {
      "cell_type": "code",
      "execution_count": 33,
      "metadata": {
        "colab": {
          "base_uri": "https://localhost:8080/"
        },
        "id": "QoEE1subkxYu",
        "outputId": "f8bcfe9e-4830-4eba-f815-dc51918f0d0b"
      },
      "outputs": [
        {
          "data": {
            "text/plain": [
              "0.01515151515151515"
            ]
          },
          "execution_count": 33,
          "metadata": {},
          "output_type": "execute_result"
        }
      ],
      "source": [
        "# p2 = чч*бббч\n",
        "p2 = (combination(2, 3)/combination(2, 8)) * (combination(3, 5) * combination(1, 7)/combination(4, 12))\n",
        "p2"
      ]
    },
    {
      "cell_type": "code",
      "execution_count": 28,
      "metadata": {
        "colab": {
          "base_uri": "https://localhost:8080/"
        },
        "id": "Lxq4CDLCpb17",
        "outputId": "c0b8846c-c379-4203-8108-aceb180c2d1e"
      },
      "outputs": [
        {
          "data": {
            "text/plain": [
              "0.22727272727272727"
            ]
          },
          "execution_count": 28,
          "metadata": {},
          "output_type": "execute_result"
        }
      ],
      "source": [
        "# p3 = бч*ббчч\n",
        "p3 = ((combination(1, 5) * combination(1, 3)) / combination(2, 8)) * ((combination(2, 5) * combination(2, 7)) / combination(4, 12))\n",
        "p3"
      ]
    },
    {
      "cell_type": "code",
      "execution_count": 37,
      "metadata": {
        "colab": {
          "base_uri": "https://localhost:8080/"
        },
        "id": "0GYp8ionx0y6",
        "outputId": "8d592c6f-b6ef-46a4-dc2c-eeea1580188a"
      },
      "outputs": [
        {
          "data": {
            "text/plain": [
              "0.3687"
            ]
          },
          "execution_count": 37,
          "metadata": {},
          "output_type": "execute_result"
        }
      ],
      "source": [
        "P = p1 + p2 + p3\n",
        "round(P, 4)"
      ]
    },
    {
      "cell_type": "markdown",
      "metadata": {
        "id": "dbZ6vYpK1qhw"
      },
      "source": [
        "3. На соревновании по биатлону один из трех спортсменов стреляет и попадает в мишень. Вероятность попадания для первого спортсмена равна 0.9, для второго — 0.8, для третьего — 0.6. Найти вероятность того, что выстрел произведен: a). первым спортсменом б). вторым спортсменом в). третьим спортсменом."
      ]
    },
    {
      "cell_type": "code",
      "execution_count": 46,
      "metadata": {
        "colab": {
          "base_uri": "https://localhost:8080/"
        },
        "id": "QWUp58Bd1xlV",
        "outputId": "24d19b36-23a7-4963-c7f7-26e0154a524e"
      },
      "outputs": [
        {
          "name": "stdout",
          "output_type": "stream",
          "text": [
            "0.7666666666666666\n",
            "Вероятность того, что выстрел произведен 1-м спортсменом = 0.391\n",
            "Вероятность того, что выстрел произведен 2-м спортсменом = 0.348\n",
            "Вероятность того, что выстрел произведен 3-м спортсменом = 0.261\n"
          ]
        }
      ],
      "source": [
        "# Используем формулу Байеса:\n",
        "# P_BA = P_AB * P_B / P_A\n",
        "\n",
        "P_AB1 = 0.9 # вероятность удачного выстрела при том, что стреляет 1-й спортсмен\n",
        "P_AB2 = 0.8 # вероятность удачного выстрела при том, что стреляет 2-й спортсмен\n",
        "P_AB3 = 0.6 # вероятность удачного выстрела при том, что стреляет 3-й спортсмен\n",
        "P_B1 = P_B2 = P_B3 = 1/3\n",
        "\n",
        "P_A = P_B1*P_AB1 + P_B2*P_AB2 + P_B3*P_AB3 # полная вероятность события А - попадания в цель\n",
        "print(P_A)\n",
        "P_B1A = P_AB1 * P_B1 / P_A\n",
        "P_B2A = P_AB2 * P_B2 / P_A\n",
        "P_B3A = P_AB3 * P_B3 / P_A\n",
        "\n",
        "print(f\"Вероятность того, что выстрел произведен 1-м спортсменом = {round(P_B1A, 3)}\")\n",
        "print(f\"Вероятность того, что выстрел произведен 2-м спортсменом = {round(P_B2A, 3)}\")\n",
        "print(f\"Вероятность того, что выстрел произведен 3-м спортсменом = {round(P_B3A, 3)}\")"
      ]
    },
    {
      "cell_type": "markdown",
      "metadata": {
        "id": "lABWMWuUEO5-"
      },
      "source": [
        "4. В университет на факультеты A и B поступило равное количество студентов, а на факультет C студентов поступило столько же, сколько на A и B вместе. Вероятность того, что студент факультета A сдаст первую сессию, равна 0.8. Для студента факультета B эта вероятность равна 0.7, а для студента факультета C - 0.9. Студент сдал первую сессию. Какова вероятность, что он учится: a). на факультете A б). на факультете B в). на факультете C?"
      ]
    },
    {
      "cell_type": "code",
      "execution_count": 52,
      "metadata": {
        "colab": {
          "base_uri": "https://localhost:8080/"
        },
        "id": "HUByhYEJEOaq",
        "outputId": "026ed315-b851-4c9c-e4d5-5584f8430027"
      },
      "outputs": [
        {
          "name": "stdout",
          "output_type": "stream",
          "text": [
            "0.825\n",
            "Вероятность того, что студент учится на 1м фак-те (A) = 0.242\n",
            "Вероятность того, что студент учится на 2м фак-те (B) = 0.212\n",
            "Вероятность того, что студент учится на 3м фак-те (C) = 0.545\n"
          ]
        }
      ],
      "source": [
        "# Используем формулу Байеса:\n",
        "# P_BA = P_AB * P_B / P_A\n",
        "\n",
        "P_AB1 = 0.8 # вероятность того, что студент 1го фак-та сдаст 1ю сессию\n",
        "P_AB2 = 0.7 # вероятность того, что студент 2го фак-та сдаст 1ю сессию\n",
        "P_AB3 = 0.9 # вероятность того, что студент 3го фак-та сдаст 1ю сессию\n",
        "# x + x + 2x = 1  \n",
        "P_B1 = P_B2 = 0.25 # вер-ть, что студент окажется с 1го или со 2го факультета\n",
        "P_B3 = 0.5  # вер-ть, что студент окажется с 3го факультета\n",
        "\n",
        "P_A = P_B1*P_AB1 + P_B2*P_AB2 + P_B3*P_AB3 #  полная вероятность события А - студенты сдали 1ю сессию\n",
        "print(P_A)\n",
        "P_B1A = P_AB1 * P_B1 / P_A\n",
        "P_B2A = P_AB2 * P_B2 / P_A\n",
        "P_B3A = P_AB3 * P_B3 / P_A\n",
        "\n",
        "print(f\"Вероятность того, что студент учится на 1м фак-те (A) = {round(P_B1A, 3)}\")\n",
        "print(f\"Вероятность того, что студент учится на 2м фак-те (B) = {round(P_B2A, 3)}\")\n",
        "print(f\"Вероятность того, что студент учится на 3м фак-те (C) = {round(P_B3A, 3)}\")"
      ]
    },
    {
      "cell_type": "markdown",
      "metadata": {
        "id": "iuF9yEBVU9xQ"
      },
      "source": [
        "5. Устройство состоит из трех деталей. Для первой детали вероятность выйти из строя в первый месяц равна 0.1, для второй - 0.2, для третьей - 0.25. Какова вероятность того, что в первый месяц выйдут из строя:\n",
        "а). все детали \n",
        "б). только две детали \n",
        "в). хотя бы одна деталь \n",
        "г). от одной до двух деталей?"
      ]
    },
    {
      "cell_type": "code",
      "execution_count": 54,
      "metadata": {
        "colab": {
          "base_uri": "https://localhost:8080/"
        },
        "id": "G2lAi-O8VCjL",
        "outputId": "f8dc89af-cd60-4a77-f20f-7d27fd357494"
      },
      "outputs": [
        {
          "data": {
            "text/plain": [
              "0.005000000000000001"
            ]
          },
          "execution_count": 54,
          "metadata": {},
          "output_type": "execute_result"
        }
      ],
      "source": [
        "# все детали выйдут из строя\n",
        "0.1*0.2*0.25"
      ]
    },
    {
      "cell_type": "code",
      "execution_count": 55,
      "metadata": {
        "colab": {
          "base_uri": "https://localhost:8080/"
        },
        "id": "Hxxq10yCgR7y",
        "outputId": "9ca02e79-dc2e-4719-8a95-e86e152a3923"
      },
      "outputs": [
        {
          "data": {
            "text/plain": [
              "0.08"
            ]
          },
          "execution_count": 55,
          "metadata": {},
          "output_type": "execute_result"
        }
      ],
      "source": [
        "# только две детали выйдут из строя\n",
        "(1-0.1)*0.2*0.25 + 0.1*(1-0.2)*0.25 + 0.1*0.2*(1-0.25)"
      ]
    },
    {
      "cell_type": "code",
      "execution_count": 56,
      "metadata": {
        "colab": {
          "base_uri": "https://localhost:8080/"
        },
        "id": "6OqkH32Eg5YH",
        "outputId": "284669ee-2d5b-4a72-8348-4e1e0ddd88a9"
      },
      "outputs": [
        {
          "data": {
            "text/plain": [
              "0.45999999999999996"
            ]
          },
          "execution_count": 56,
          "metadata": {},
          "output_type": "execute_result"
        }
      ],
      "source": [
        "# хотя бы одна деталь выйдет из строя\n",
        "1 - (1-0.1)*(1-0.2)*(1-0.25)"
      ]
    },
    {
      "cell_type": "code",
      "execution_count": 58,
      "metadata": {
        "colab": {
          "base_uri": "https://localhost:8080/"
        },
        "id": "X7wRa4fMhZ79",
        "outputId": "01f08e5e-ef56-45d3-aacd-aa4d0379a63c"
      },
      "outputs": [
        {
          "data": {
            "text/plain": [
              "0.45499999999999996"
            ]
          },
          "execution_count": 58,
          "metadata": {},
          "output_type": "execute_result"
        }
      ],
      "source": [
        "# от одной до двух деталей выйдут из строя\n",
        "1 - (1-0.1)*(1-0.2)*(1-0.25) - 0.1*0.2*0.25"
      ]
    }
  ],
  "metadata": {
    "colab": {
      "provenance": []
    },
    "kernelspec": {
      "display_name": "Python 3",
      "name": "python3"
    },
    "language_info": {
      "name": "python"
    }
  },
  "nbformat": 4,
  "nbformat_minor": 0
}
