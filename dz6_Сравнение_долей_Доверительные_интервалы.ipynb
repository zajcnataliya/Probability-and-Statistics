{
  "nbformat": 4,
  "nbformat_minor": 0,
  "metadata": {
    "colab": {
      "provenance": [],
      "authorship_tag": "ABX9TyN1g+6I7Y3O8wD7CrRpmRqg",
      "include_colab_link": true
    },
    "kernelspec": {
      "name": "python3",
      "display_name": "Python 3"
    },
    "language_info": {
      "name": "python"
    }
  },
  "cells": [
    {
      "cell_type": "markdown",
      "metadata": {
        "id": "view-in-github",
        "colab_type": "text"
      },
      "source": [
        "<a href=\"https://colab.research.google.com/github/zajcnataliya/Probability-and-Statistics/blob/main/dz6_%D0%A1%D1%80%D0%B0%D0%B2%D0%BD%D0%B5%D0%BD%D0%B8%D0%B5_%D0%B4%D0%BE%D0%BB%D0%B5%D0%B9_%D0%94%D0%BE%D0%B2%D0%B5%D1%80%D0%B8%D1%82%D0%B5%D0%BB%D1%8C%D0%BD%D1%8B%D0%B5_%D0%B8%D0%BD%D1%82%D0%B5%D1%80%D0%B2%D0%B0%D0%BB%D1%8B.ipynb\" target=\"_parent\"><img src=\"https://colab.research.google.com/assets/colab-badge.svg\" alt=\"Open In Colab\"/></a>"
      ]
    },
    {
      "cell_type": "markdown",
      "source": [
        "1) Известно, что генеральная совокупность распределена нормально со средним квадратическим отклонением, равным 16.\n",
        "\n",
        "Найти доверительный интервал для оценки математического ожидания a с надежностью 0.95, если выборочная средняя M = 80, а объем выборки n = 256."
      ],
      "metadata": {
        "id": "Jc3Bv6A23dtp"
      }
    },
    {
      "cell_type": "code",
      "source": [
        "import numpy as np\n",
        "import pandas as pd\n",
        "from scipy import stats"
      ],
      "metadata": {
        "id": "zG58a84c53Qy"
      },
      "execution_count": 2,
      "outputs": []
    },
    {
      "cell_type": "code",
      "source": [
        "sigma = 16\n",
        "M = 80\n",
        "n = 256\n",
        "alfa =0.05  # 1-0.95=0.05/2=0.025, 1-0.025 = 0.975\n",
        "Z_alfa_95 = 1.96\n"
      ],
      "metadata": {
        "id": "ig893qEx3fvQ"
      },
      "execution_count": null,
      "outputs": []
    },
    {
      "cell_type": "code",
      "source": [
        "Z_alfa_95=stats.norm.ppf(0.975)\n",
        "print(round(Z_alfa_95, 2))"
      ],
      "metadata": {
        "colab": {
          "base_uri": "https://localhost:8080/"
        },
        "id": "NGJ3AOQ_5vYm",
        "outputId": "afdef2ea-6ca8-41df-a011-70a91c6f70f6"
      },
      "execution_count": null,
      "outputs": [
        {
          "output_type": "stream",
          "name": "stdout",
          "text": [
            "1.96\n"
          ]
        }
      ]
    },
    {
      "cell_type": "code",
      "source": [
        "int_verh = M + Z_alfa_95*sigma/np.sqrt(n)\n",
        "int_niz = M - Z_alfa_95*sigma/np.sqrt(n)\n",
        "print(f'[{int_niz}; {int_verh}]')"
      ],
      "metadata": {
        "colab": {
          "base_uri": "https://localhost:8080/"
        },
        "id": "oFyCKTQH6SHL",
        "outputId": "96737852-a11e-48f5-d257-33c06c306cc0"
      },
      "execution_count": null,
      "outputs": [
        {
          "output_type": "stream",
          "name": "stdout",
          "text": [
            "[78.04; 81.96]\n"
          ]
        }
      ]
    },
    {
      "cell_type": "markdown",
      "source": [
        "\n",
        "\n",
        "2) В результате 10 независимых измерений некоторой величины X, выполненных с одинаковой точностью, получены опытные данные:\n",
        "\n",
        "6.9, 6.1, 6.2, 6.8, 7.5, 6.3, 6.4, 6.9, 6.7, 6.1\n",
        "\n",
        "Предполагая, что результаты измерений подчинены нормальному закону распределения вероятностей, оценить истинное значение величины X при помощи доверительного интервала, покрывающего это значение с доверительной вероятностью 0,95."
      ],
      "metadata": {
        "id": "hcXhbuFk3wJ3"
      }
    },
    {
      "cell_type": "code",
      "source": [
        "a = np.array([6.9, 6.1, 6.2, 6.8, 7.5, 6.3, 6.4, 6.9, 6.7, 6.1])\n",
        "\n",
        "x = np.mean(a)\n",
        "x"
      ],
      "metadata": {
        "colab": {
          "base_uri": "https://localhost:8080/"
        },
        "id": "J1QuJRJ93xqX",
        "outputId": "0cc6d515-ea55-4826-d12f-4509d164ec02"
      },
      "execution_count": null,
      "outputs": [
        {
          "output_type": "execute_result",
          "data": {
            "text/plain": [
              "6.590000000000001"
            ]
          },
          "metadata": {},
          "execution_count": 11
        }
      ]
    },
    {
      "cell_type": "code",
      "source": [
        "print(len(a))"
      ],
      "metadata": {
        "colab": {
          "base_uri": "https://localhost:8080/"
        },
        "id": "Bpz_oPBO-eKc",
        "outputId": "2010be88-5818-45ff-f985-433901e28ae8"
      },
      "execution_count": null,
      "outputs": [
        {
          "output_type": "stream",
          "name": "stdout",
          "text": [
            "10\n"
          ]
        }
      ]
    },
    {
      "cell_type": "code",
      "source": [
        "D = np.var(a, ddof=1) # несмещенная дисперсия\n",
        "D"
      ],
      "metadata": {
        "colab": {
          "base_uri": "https://localhost:8080/"
        },
        "id": "NqJvXrDp9Z0W",
        "outputId": "47dbdbe2-7406-4445-ce92-de9cd2b5fad1"
      },
      "execution_count": null,
      "outputs": [
        {
          "output_type": "execute_result",
          "data": {
            "text/plain": [
              "0.2032222222222223"
            ]
          },
          "metadata": {},
          "execution_count": 13
        }
      ]
    },
    {
      "cell_type": "code",
      "source": [
        "alfa = 0.05 # 0.05/2=0.025, 1-0.025 = 0.975\n",
        "t = stats.t.ppf(0.975, 9) # критерий Стьюдента\n",
        "t"
      ],
      "metadata": {
        "colab": {
          "base_uri": "https://localhost:8080/"
        },
        "id": "_oDyxP9b-BBh",
        "outputId": "ff78add1-d352-4fa9-ace7-86814ccc61bb"
      },
      "execution_count": null,
      "outputs": [
        {
          "output_type": "execute_result",
          "data": {
            "text/plain": [
              "2.2621571627409915"
            ]
          },
          "metadata": {},
          "execution_count": 14
        }
      ]
    },
    {
      "cell_type": "code",
      "source": [
        "n = 10\n",
        "int_verh = x + t*np.sqrt(D/10)\n",
        "int_niz = x - t*np.sqrt(D/10)\n",
        "print(f'[{int_niz}; {int_verh}]')"
      ],
      "metadata": {
        "colab": {
          "base_uri": "https://localhost:8080/"
        },
        "id": "JidrrwAr-nnI",
        "outputId": "544f2f30-01b9-447f-e4d5-0b9d4a055d2d"
      },
      "execution_count": null,
      "outputs": [
        {
          "output_type": "stream",
          "name": "stdout",
          "text": [
            "[6.267515851415713; 6.912484148584288]\n"
          ]
        }
      ]
    },
    {
      "cell_type": "markdown",
      "source": [
        "3)Рост дочерей 175, 167, 154, 174, 178, 148, 160, 167, 169, 170\n",
        "\n",
        "Рост матерей  178, 165, 165, 173, 168, 155, 160, 164, 178, 175\n",
        "\n",
        "Используя эти данные построить 95% доверительный интервал для разности среднего роста родителей и детей."
      ],
      "metadata": {
        "id": "79O0YppK3yLX"
      }
    },
    {
      "cell_type": "code",
      "source": [
        "n1 = np.array([175, 167, 154, 174, 178, 148, 160, 167, 169, 170])\n",
        "n2 = np.array([178, 165, 165, 173, 168, 155, 160, 164, 178, 175])\n",
        "print(len(n1))\n",
        "print(len(n2))"
      ],
      "metadata": {
        "colab": {
          "base_uri": "https://localhost:8080/"
        },
        "id": "A4BCQ-iOAUey",
        "outputId": "acad6fc6-4472-48ca-8929-ce8bf7fc9f2e"
      },
      "execution_count": 4,
      "outputs": [
        {
          "output_type": "stream",
          "name": "stdout",
          "text": [
            "10\n",
            "10\n"
          ]
        }
      ]
    },
    {
      "cell_type": "code",
      "source": [
        "# найдем разность средних\n",
        "x1 = np.mean(n1)\n",
        "print(x1)\n",
        "x2 = np.mean(n2)\n",
        "print(x2)\n",
        "delta = x2 - x1\n",
        "print(round(delta, 2))"
      ],
      "metadata": {
        "colab": {
          "base_uri": "https://localhost:8080/"
        },
        "id": "rr-xA8jAg0ci",
        "outputId": "0fbd0854-5b21-43d7-92f3-2f8f6daa3103"
      },
      "execution_count": 5,
      "outputs": [
        {
          "output_type": "stream",
          "name": "stdout",
          "text": [
            "166.2\n",
            "168.1\n",
            "1.9\n"
          ]
        }
      ]
    },
    {
      "cell_type": "code",
      "source": [
        "# найдем несмещенные дисперсии для обеих выборок\n",
        "D1 = np.var(n1, ddof=1)\n",
        "print(round(D1, 2))\n",
        "D2 = np.var(n2, ddof=1)\n",
        "print(round(D2, 2))\n",
        "D = (D1+D2)/2\n",
        "# найдем объединенную оценку дисперсии\n",
        "print(round(D, 2))"
      ],
      "metadata": {
        "colab": {
          "base_uri": "https://localhost:8080/"
        },
        "id": "hFVifd2PhjP8",
        "outputId": "adcd7a6b-2a60-4d5c-e6e3-263dfe85cb30"
      },
      "execution_count": 6,
      "outputs": [
        {
          "output_type": "stream",
          "name": "stdout",
          "text": [
            "91.07\n",
            "60.1\n",
            "75.58\n"
          ]
        }
      ]
    },
    {
      "cell_type": "code",
      "source": [
        "# найдем стандартную ошибку разности средних\n",
        "SE = np.sqrt(D/len(n1)+D/len(n2))\n",
        "print(round(SE, 2))"
      ],
      "metadata": {
        "colab": {
          "base_uri": "https://localhost:8080/"
        },
        "id": "UfQ8K0MEjily",
        "outputId": "e8fdf9b6-edd2-4ab3-d597-40cddd6565c7"
      },
      "execution_count": 7,
      "outputs": [
        {
          "output_type": "stream",
          "name": "stdout",
          "text": [
            "3.89\n"
          ]
        }
      ]
    },
    {
      "cell_type": "code",
      "source": [
        "# найдем критерий Стьюдента\n",
        "n = 10\n",
        "alfa = 0.05   # 0.05/2=0.025, 1-0.025 = 0,975\n",
        "t = stats.t.ppf(0.975, 18) # степени свободы 2*(n-1)=2*(10-1)=18\n",
        "print(t)"
      ],
      "metadata": {
        "colab": {
          "base_uri": "https://localhost:8080/"
        },
        "id": "bGTr1fsAkZjT",
        "outputId": "54ef7fca-4944-4e28-95b3-2747ca2bfe55"
      },
      "execution_count": 8,
      "outputs": [
        {
          "output_type": "stream",
          "name": "stdout",
          "text": [
            "2.10092204024096\n"
          ]
        }
      ]
    },
    {
      "cell_type": "code",
      "source": [
        "# найдем нижнюю и верхнюю границы доверительного интервала\n",
        "int_verh = delta + t*SE\n",
        "int_niz = delta - t*SE\n",
        "print(f'[{int_niz}; {int_verh}]')"
      ],
      "metadata": {
        "colab": {
          "base_uri": "https://localhost:8080/"
        },
        "id": "enpmVw_0lglF",
        "outputId": "d4a40b51-270b-4f1c-915e-67d2c02253a1"
      },
      "execution_count": 9,
      "outputs": [
        {
          "output_type": "stream",
          "name": "stdout",
          "text": [
            "[-6.268418034506846; 10.068418034506857]\n"
          ]
        }
      ]
    }
  ]
}