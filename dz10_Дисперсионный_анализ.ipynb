{
  "nbformat": 4,
  "nbformat_minor": 0,
  "metadata": {
    "colab": {
      "provenance": [],
      "authorship_tag": "ABX9TyMZGKOsQBsL7NMIuHUGA53a",
      "include_colab_link": true
    },
    "kernelspec": {
      "name": "python3",
      "display_name": "Python 3"
    },
    "language_info": {
      "name": "python"
    }
  },
  "cells": [
    {
      "cell_type": "markdown",
      "metadata": {
        "id": "view-in-github",
        "colab_type": "text"
      },
      "source": [
        "<a href=\"https://colab.research.google.com/github/zajcnataliya/Probability-and-Statistics/blob/main/dz10_%D0%94%D0%B8%D1%81%D0%BF%D0%B5%D1%80%D1%81%D0%B8%D0%BE%D0%BD%D0%BD%D1%8B%D0%B9_%D0%B0%D0%BD%D0%B0%D0%BB%D0%B8%D0%B7.ipynb\" target=\"_parent\"><img src=\"https://colab.research.google.com/assets/colab-badge.svg\" alt=\"Open In Colab\"/></a>"
      ]
    },
    {
      "cell_type": "markdown",
      "source": [
        "Провести дисперсионный анализ для определения того, есть ли различия среднего роста среди взрослых футболистов, хоккеистов и штангистов.\n",
        "\n",
        "Даны значения роста в трех группах случайно выбранных спортсменов:\n",
        "\n",
        "Футболисты: 173, 175, 180, 178, 177, 185, 183, 182.\n",
        "\n",
        "Хоккеисты: 177, 179, 180, 188, 177, 172, 171, 184, 180.\n",
        "\n",
        "Штангисты: 172, 173, 169, 177, 166, 180, 178, 177, 172, 166, 170."
      ],
      "metadata": {
        "id": "CQv_nriGEixn"
      }
    },
    {
      "cell_type": "code",
      "source": [
        "import scipy.stats as stats\n",
        "import numpy as np\n",
        "import matplotlib.pyplot as plt\n",
        "import pandas as pd"
      ],
      "metadata": {
        "id": "7k2qHcWsERVl"
      },
      "execution_count": 23,
      "outputs": []
    },
    {
      "cell_type": "code",
      "source": [
        "\n",
        "x = np.array([173, 175, 180, 178, 177, 185, 183, 182])\n",
        "y = np.array([177, 179, 180, 188, 177, 172, 171, 184, 180])\n",
        "z = np.array([172, 173, 169, 177, 166, 180, 178, 177, 172, 166, 170])"
      ],
      "metadata": {
        "id": "jET9DiPDDq6Y"
      },
      "execution_count": 26,
      "outputs": []
    },
    {
      "cell_type": "code",
      "source": [
        "# проверка на нормальность\n",
        "\n",
        "stats.shapiro(x)"
      ],
      "metadata": {
        "colab": {
          "base_uri": "https://localhost:8080/"
        },
        "id": "AnCXOJ8zE0y2",
        "outputId": "167977e0-e60f-48ad-f995-498447a5601f"
      },
      "execution_count": 27,
      "outputs": [
        {
          "output_type": "execute_result",
          "data": {
            "text/plain": [
              "ShapiroResult(statistic=0.9775082468986511, pvalue=0.9495404362678528)"
            ]
          },
          "metadata": {},
          "execution_count": 27
        }
      ]
    },
    {
      "cell_type": "code",
      "source": [
        "stats.shapiro(y)"
      ],
      "metadata": {
        "colab": {
          "base_uri": "https://localhost:8080/"
        },
        "id": "4b3riYVsE8cr",
        "outputId": "b728f70c-ae4a-477a-974d-ad6f5f98c7ed"
      },
      "execution_count": 28,
      "outputs": [
        {
          "output_type": "execute_result",
          "data": {
            "text/plain": [
              "ShapiroResult(statistic=0.9579196572303772, pvalue=0.7763139009475708)"
            ]
          },
          "metadata": {},
          "execution_count": 28
        }
      ]
    },
    {
      "cell_type": "code",
      "source": [
        "stats.shapiro(z)"
      ],
      "metadata": {
        "colab": {
          "base_uri": "https://localhost:8080/"
        },
        "id": "HfY3L2CWFFIw",
        "outputId": "a6de8c0e-f857-47ce-98eb-82141ee86a93"
      },
      "execution_count": 29,
      "outputs": [
        {
          "output_type": "execute_result",
          "data": {
            "text/plain": [
              "ShapiroResult(statistic=0.9386808276176453, pvalue=0.5051165223121643)"
            ]
          },
          "metadata": {},
          "execution_count": 29
        }
      ]
    },
    {
      "cell_type": "code",
      "source": [
        "# вывод: все распределения нормальные, т.к. pvalue > 0.05"
      ],
      "metadata": {
        "id": "e3IrU6IHF32U"
      },
      "execution_count": null,
      "outputs": []
    },
    {
      "cell_type": "code",
      "source": [
        "# проверка на однородность дисперсий с помощью Барлетт теста \n",
        "\n",
        "from scipy.stats import bartlett\n",
        "stats.bartlett(x, y, z)"
      ],
      "metadata": {
        "colab": {
          "base_uri": "https://localhost:8080/"
        },
        "id": "Wxn7P8IuGFDQ",
        "outputId": "c6c731cc-717e-4d99-812c-d211adec8d13"
      },
      "execution_count": 30,
      "outputs": [
        {
          "output_type": "execute_result",
          "data": {
            "text/plain": [
              "BartlettResult(statistic=0.4640521043406442, pvalue=0.7929254656083131)"
            ]
          },
          "metadata": {},
          "execution_count": 30
        }
      ]
    },
    {
      "cell_type": "code",
      "source": [
        "# вывод: дисперсии однородные, т.к. pvalue > 0.05\n",
        "# можем провести дисперсионный анализ"
      ],
      "metadata": {
        "id": "yo_efNsnGtpA"
      },
      "execution_count": null,
      "outputs": []
    },
    {
      "cell_type": "code",
      "source": [
        "# ANOVA\n",
        "stats.f_oneway(x, y, z)"
      ],
      "metadata": {
        "colab": {
          "base_uri": "https://localhost:8080/"
        },
        "id": "JsTd-tjiHJqN",
        "outputId": "47820661-5952-4b09-bebc-ddde856078cd"
      },
      "execution_count": 31,
      "outputs": [
        {
          "output_type": "execute_result",
          "data": {
            "text/plain": [
              "F_onewayResult(statistic=5.500053450812596, pvalue=0.010482206918698694)"
            ]
          },
          "metadata": {},
          "execution_count": 31
        }
      ]
    },
    {
      "cell_type": "code",
      "source": [
        " # вывод: pvalue < 0.05, значит есть статистически значимые различия"
      ],
      "metadata": {
        "id": "lwQoiLv7HWPq"
      },
      "execution_count": null,
      "outputs": []
    },
    {
      "cell_type": "code",
      "source": [
        "# Post hoc test\n",
        "from statsmodels.stats.multicomp import pairwise_tukeyhsd\n",
        "import pandas as pd\n"
      ],
      "metadata": {
        "id": "tLFjeaUBZBrN"
      },
      "execution_count": 87,
      "outputs": []
    },
    {
      "cell_type": "code",
      "source": [
        "df=pd.DataFrame({'height':[173, 175, 180, 178, 177, 185, 183, 182, 179.12, 179.12, 179.12, 177, 179, 180, 188, 177, 172, 171, 184, 180, 178.67, 178.67, 172, 173, 169, 177, 166, 180, 178, 177, 172, 166, 170 ],\n",
        "                'group':np.repeat(['x', 'y', 'z'], repeats = 11)})\n",
        "df"
      ],
      "metadata": {
        "colab": {
          "base_uri": "https://localhost:8080/",
          "height": 1000
        },
        "id": "PI37QpidZQKY",
        "outputId": "97b1b8f1-bb99-45db-a527-2afcdebd5d33"
      },
      "execution_count": 90,
      "outputs": [
        {
          "output_type": "execute_result",
          "data": {
            "text/plain": [
              "    height group\n",
              "0   173.00     x\n",
              "1   175.00     x\n",
              "2   180.00     x\n",
              "3   178.00     x\n",
              "4   177.00     x\n",
              "5   185.00     x\n",
              "6   183.00     x\n",
              "7   182.00     x\n",
              "8   179.12     x\n",
              "9   179.12     x\n",
              "10  179.12     x\n",
              "11  177.00     y\n",
              "12  179.00     y\n",
              "13  180.00     y\n",
              "14  188.00     y\n",
              "15  177.00     y\n",
              "16  172.00     y\n",
              "17  171.00     y\n",
              "18  184.00     y\n",
              "19  180.00     y\n",
              "20  178.67     y\n",
              "21  178.67     y\n",
              "22  172.00     z\n",
              "23  173.00     z\n",
              "24  169.00     z\n",
              "25  177.00     z\n",
              "26  166.00     z\n",
              "27  180.00     z\n",
              "28  178.00     z\n",
              "29  177.00     z\n",
              "30  172.00     z\n",
              "31  166.00     z\n",
              "32  170.00     z"
            ],
            "text/html": [
              "\n",
              "  <div id=\"df-e523f7a6-0cfc-4900-a802-a656e23af8a3\">\n",
              "    <div class=\"colab-df-container\">\n",
              "      <div>\n",
              "<style scoped>\n",
              "    .dataframe tbody tr th:only-of-type {\n",
              "        vertical-align: middle;\n",
              "    }\n",
              "\n",
              "    .dataframe tbody tr th {\n",
              "        vertical-align: top;\n",
              "    }\n",
              "\n",
              "    .dataframe thead th {\n",
              "        text-align: right;\n",
              "    }\n",
              "</style>\n",
              "<table border=\"1\" class=\"dataframe\">\n",
              "  <thead>\n",
              "    <tr style=\"text-align: right;\">\n",
              "      <th></th>\n",
              "      <th>height</th>\n",
              "      <th>group</th>\n",
              "    </tr>\n",
              "  </thead>\n",
              "  <tbody>\n",
              "    <tr>\n",
              "      <th>0</th>\n",
              "      <td>173.00</td>\n",
              "      <td>x</td>\n",
              "    </tr>\n",
              "    <tr>\n",
              "      <th>1</th>\n",
              "      <td>175.00</td>\n",
              "      <td>x</td>\n",
              "    </tr>\n",
              "    <tr>\n",
              "      <th>2</th>\n",
              "      <td>180.00</td>\n",
              "      <td>x</td>\n",
              "    </tr>\n",
              "    <tr>\n",
              "      <th>3</th>\n",
              "      <td>178.00</td>\n",
              "      <td>x</td>\n",
              "    </tr>\n",
              "    <tr>\n",
              "      <th>4</th>\n",
              "      <td>177.00</td>\n",
              "      <td>x</td>\n",
              "    </tr>\n",
              "    <tr>\n",
              "      <th>5</th>\n",
              "      <td>185.00</td>\n",
              "      <td>x</td>\n",
              "    </tr>\n",
              "    <tr>\n",
              "      <th>6</th>\n",
              "      <td>183.00</td>\n",
              "      <td>x</td>\n",
              "    </tr>\n",
              "    <tr>\n",
              "      <th>7</th>\n",
              "      <td>182.00</td>\n",
              "      <td>x</td>\n",
              "    </tr>\n",
              "    <tr>\n",
              "      <th>8</th>\n",
              "      <td>179.12</td>\n",
              "      <td>x</td>\n",
              "    </tr>\n",
              "    <tr>\n",
              "      <th>9</th>\n",
              "      <td>179.12</td>\n",
              "      <td>x</td>\n",
              "    </tr>\n",
              "    <tr>\n",
              "      <th>10</th>\n",
              "      <td>179.12</td>\n",
              "      <td>x</td>\n",
              "    </tr>\n",
              "    <tr>\n",
              "      <th>11</th>\n",
              "      <td>177.00</td>\n",
              "      <td>y</td>\n",
              "    </tr>\n",
              "    <tr>\n",
              "      <th>12</th>\n",
              "      <td>179.00</td>\n",
              "      <td>y</td>\n",
              "    </tr>\n",
              "    <tr>\n",
              "      <th>13</th>\n",
              "      <td>180.00</td>\n",
              "      <td>y</td>\n",
              "    </tr>\n",
              "    <tr>\n",
              "      <th>14</th>\n",
              "      <td>188.00</td>\n",
              "      <td>y</td>\n",
              "    </tr>\n",
              "    <tr>\n",
              "      <th>15</th>\n",
              "      <td>177.00</td>\n",
              "      <td>y</td>\n",
              "    </tr>\n",
              "    <tr>\n",
              "      <th>16</th>\n",
              "      <td>172.00</td>\n",
              "      <td>y</td>\n",
              "    </tr>\n",
              "    <tr>\n",
              "      <th>17</th>\n",
              "      <td>171.00</td>\n",
              "      <td>y</td>\n",
              "    </tr>\n",
              "    <tr>\n",
              "      <th>18</th>\n",
              "      <td>184.00</td>\n",
              "      <td>y</td>\n",
              "    </tr>\n",
              "    <tr>\n",
              "      <th>19</th>\n",
              "      <td>180.00</td>\n",
              "      <td>y</td>\n",
              "    </tr>\n",
              "    <tr>\n",
              "      <th>20</th>\n",
              "      <td>178.67</td>\n",
              "      <td>y</td>\n",
              "    </tr>\n",
              "    <tr>\n",
              "      <th>21</th>\n",
              "      <td>178.67</td>\n",
              "      <td>y</td>\n",
              "    </tr>\n",
              "    <tr>\n",
              "      <th>22</th>\n",
              "      <td>172.00</td>\n",
              "      <td>z</td>\n",
              "    </tr>\n",
              "    <tr>\n",
              "      <th>23</th>\n",
              "      <td>173.00</td>\n",
              "      <td>z</td>\n",
              "    </tr>\n",
              "    <tr>\n",
              "      <th>24</th>\n",
              "      <td>169.00</td>\n",
              "      <td>z</td>\n",
              "    </tr>\n",
              "    <tr>\n",
              "      <th>25</th>\n",
              "      <td>177.00</td>\n",
              "      <td>z</td>\n",
              "    </tr>\n",
              "    <tr>\n",
              "      <th>26</th>\n",
              "      <td>166.00</td>\n",
              "      <td>z</td>\n",
              "    </tr>\n",
              "    <tr>\n",
              "      <th>27</th>\n",
              "      <td>180.00</td>\n",
              "      <td>z</td>\n",
              "    </tr>\n",
              "    <tr>\n",
              "      <th>28</th>\n",
              "      <td>178.00</td>\n",
              "      <td>z</td>\n",
              "    </tr>\n",
              "    <tr>\n",
              "      <th>29</th>\n",
              "      <td>177.00</td>\n",
              "      <td>z</td>\n",
              "    </tr>\n",
              "    <tr>\n",
              "      <th>30</th>\n",
              "      <td>172.00</td>\n",
              "      <td>z</td>\n",
              "    </tr>\n",
              "    <tr>\n",
              "      <th>31</th>\n",
              "      <td>166.00</td>\n",
              "      <td>z</td>\n",
              "    </tr>\n",
              "    <tr>\n",
              "      <th>32</th>\n",
              "      <td>170.00</td>\n",
              "      <td>z</td>\n",
              "    </tr>\n",
              "  </tbody>\n",
              "</table>\n",
              "</div>\n",
              "      <button class=\"colab-df-convert\" onclick=\"convertToInteractive('df-e523f7a6-0cfc-4900-a802-a656e23af8a3')\"\n",
              "              title=\"Convert this dataframe to an interactive table.\"\n",
              "              style=\"display:none;\">\n",
              "        \n",
              "  <svg xmlns=\"http://www.w3.org/2000/svg\" height=\"24px\"viewBox=\"0 0 24 24\"\n",
              "       width=\"24px\">\n",
              "    <path d=\"M0 0h24v24H0V0z\" fill=\"none\"/>\n",
              "    <path d=\"M18.56 5.44l.94 2.06.94-2.06 2.06-.94-2.06-.94-.94-2.06-.94 2.06-2.06.94zm-11 1L8.5 8.5l.94-2.06 2.06-.94-2.06-.94L8.5 2.5l-.94 2.06-2.06.94zm10 10l.94 2.06.94-2.06 2.06-.94-2.06-.94-.94-2.06-.94 2.06-2.06.94z\"/><path d=\"M17.41 7.96l-1.37-1.37c-.4-.4-.92-.59-1.43-.59-.52 0-1.04.2-1.43.59L10.3 9.45l-7.72 7.72c-.78.78-.78 2.05 0 2.83L4 21.41c.39.39.9.59 1.41.59.51 0 1.02-.2 1.41-.59l7.78-7.78 2.81-2.81c.8-.78.8-2.07 0-2.86zM5.41 20L4 18.59l7.72-7.72 1.47 1.35L5.41 20z\"/>\n",
              "  </svg>\n",
              "      </button>\n",
              "      \n",
              "  <style>\n",
              "    .colab-df-container {\n",
              "      display:flex;\n",
              "      flex-wrap:wrap;\n",
              "      gap: 12px;\n",
              "    }\n",
              "\n",
              "    .colab-df-convert {\n",
              "      background-color: #E8F0FE;\n",
              "      border: none;\n",
              "      border-radius: 50%;\n",
              "      cursor: pointer;\n",
              "      display: none;\n",
              "      fill: #1967D2;\n",
              "      height: 32px;\n",
              "      padding: 0 0 0 0;\n",
              "      width: 32px;\n",
              "    }\n",
              "\n",
              "    .colab-df-convert:hover {\n",
              "      background-color: #E2EBFA;\n",
              "      box-shadow: 0px 1px 2px rgba(60, 64, 67, 0.3), 0px 1px 3px 1px rgba(60, 64, 67, 0.15);\n",
              "      fill: #174EA6;\n",
              "    }\n",
              "\n",
              "    [theme=dark] .colab-df-convert {\n",
              "      background-color: #3B4455;\n",
              "      fill: #D2E3FC;\n",
              "    }\n",
              "\n",
              "    [theme=dark] .colab-df-convert:hover {\n",
              "      background-color: #434B5C;\n",
              "      box-shadow: 0px 1px 3px 1px rgba(0, 0, 0, 0.15);\n",
              "      filter: drop-shadow(0px 1px 2px rgba(0, 0, 0, 0.3));\n",
              "      fill: #FFFFFF;\n",
              "    }\n",
              "  </style>\n",
              "\n",
              "      <script>\n",
              "        const buttonEl =\n",
              "          document.querySelector('#df-e523f7a6-0cfc-4900-a802-a656e23af8a3 button.colab-df-convert');\n",
              "        buttonEl.style.display =\n",
              "          google.colab.kernel.accessAllowed ? 'block' : 'none';\n",
              "\n",
              "        async function convertToInteractive(key) {\n",
              "          const element = document.querySelector('#df-e523f7a6-0cfc-4900-a802-a656e23af8a3');\n",
              "          const dataTable =\n",
              "            await google.colab.kernel.invokeFunction('convertToInteractive',\n",
              "                                                     [key], {});\n",
              "          if (!dataTable) return;\n",
              "\n",
              "          const docLinkHtml = 'Like what you see? Visit the ' +\n",
              "            '<a target=\"_blank\" href=https://colab.research.google.com/notebooks/data_table.ipynb>data table notebook</a>'\n",
              "            + ' to learn more about interactive tables.';\n",
              "          element.innerHTML = '';\n",
              "          dataTable['output_type'] = 'display_data';\n",
              "          await google.colab.output.renderOutput(dataTable, element);\n",
              "          const docLink = document.createElement('div');\n",
              "          docLink.innerHTML = docLinkHtml;\n",
              "          element.appendChild(docLink);\n",
              "        }\n",
              "      </script>\n",
              "    </div>\n",
              "  </div>\n",
              "  "
            ]
          },
          "metadata": {},
          "execution_count": 90
        }
      ]
    },
    {
      "cell_type": "code",
      "source": [
        "tukey = pairwise_tukeyhsd(df['height'], df['group'], alpha = 0.05)\n",
        "print(tukey)"
      ],
      "metadata": {
        "colab": {
          "base_uri": "https://localhost:8080/"
        },
        "id": "ikbEBEesafBn",
        "outputId": "6ec9c349-687a-4648-a03a-df182fa3f911"
      },
      "execution_count": 91,
      "outputs": [
        {
          "output_type": "stream",
          "name": "stdout",
          "text": [
            " Multiple Comparison of Means - Tukey HSD, FWER=0.05 \n",
            "=====================================================\n",
            "group1 group2 meandiff p-adj   lower    upper  reject\n",
            "-----------------------------------------------------\n",
            "     x      y  -0.4564 0.9677  -5.0667   4.154  False\n",
            "     x      z  -6.3964  0.005 -11.0067  -1.786   True\n",
            "     y      z    -5.94 0.0094 -10.5503 -1.3297   True\n",
            "-----------------------------------------------------\n"
          ]
        }
      ]
    },
    {
      "cell_type": "code",
      "source": [
        "# вывод: между средним ростом футболистов и хоккеистов не найдены различия, т.е. верна нулева гипотеза,\n",
        "# между средним ростом футболистов и штангистов, между средним ростом хоккеистов и штангистов найдены\n",
        "# статистически значимые различия, т.е верна альтернативная гипотеза"
      ],
      "metadata": {
        "id": "rgIz8nJeawMz"
      },
      "execution_count": null,
      "outputs": []
    },
    {
      "cell_type": "code",
      "source": [
        "# расчетный критерий Фишера (факультативно)\n",
        "len(x)\n"
      ],
      "metadata": {
        "colab": {
          "base_uri": "https://localhost:8080/"
        },
        "id": "Q-lxF9joJWJk",
        "outputId": "68c380ea-fe3a-4ab6-b59e-1beba7adfe30"
      },
      "execution_count": 32,
      "outputs": [
        {
          "output_type": "execute_result",
          "data": {
            "text/plain": [
              "8"
            ]
          },
          "metadata": {},
          "execution_count": 32
        }
      ]
    },
    {
      "cell_type": "code",
      "source": [
        "len(y)"
      ],
      "metadata": {
        "colab": {
          "base_uri": "https://localhost:8080/"
        },
        "id": "UisGDuufJdSZ",
        "outputId": "3dc6ba70-396c-4987-fb8a-cf90463eb119"
      },
      "execution_count": 33,
      "outputs": [
        {
          "output_type": "execute_result",
          "data": {
            "text/plain": [
              "9"
            ]
          },
          "metadata": {},
          "execution_count": 33
        }
      ]
    },
    {
      "cell_type": "code",
      "source": [
        "len(z)"
      ],
      "metadata": {
        "colab": {
          "base_uri": "https://localhost:8080/"
        },
        "id": "szOmr0O9JfjH",
        "outputId": "1af6c4ca-8da8-44a0-a965-b35216635928"
      },
      "execution_count": 34,
      "outputs": [
        {
          "output_type": "execute_result",
          "data": {
            "text/plain": [
              "11"
            ]
          },
          "metadata": {},
          "execution_count": 34
        }
      ]
    },
    {
      "cell_type": "code",
      "source": [
        "x_mean = np.mean(x)\n",
        "round(x_mean, 2)"
      ],
      "metadata": {
        "colab": {
          "base_uri": "https://localhost:8080/"
        },
        "id": "IBndIxBKKIoN",
        "outputId": "8afbb179-0c85-4274-8254-8ca5e146ea55"
      },
      "execution_count": 38,
      "outputs": [
        {
          "output_type": "execute_result",
          "data": {
            "text/plain": [
              "179.12"
            ]
          },
          "metadata": {},
          "execution_count": 38
        }
      ]
    },
    {
      "cell_type": "code",
      "source": [
        "y_mean = np.mean(y)\n",
        "round(y_mean, 2)"
      ],
      "metadata": {
        "colab": {
          "base_uri": "https://localhost:8080/"
        },
        "id": "Qye0oNDQKUf8",
        "outputId": "09ea0bc2-f413-454c-9bb8-fa7442fed56d"
      },
      "execution_count": 39,
      "outputs": [
        {
          "output_type": "execute_result",
          "data": {
            "text/plain": [
              "178.67"
            ]
          },
          "metadata": {},
          "execution_count": 39
        }
      ]
    },
    {
      "cell_type": "code",
      "source": [
        "z_mean = np.mean(z)\n",
        "round(z_mean, 2)"
      ],
      "metadata": {
        "colab": {
          "base_uri": "https://localhost:8080/"
        },
        "id": "aQnKHgJBKa7r",
        "outputId": "22a20196-a4eb-4b4d-9df9-be8343804a6c"
      },
      "execution_count": 40,
      "outputs": [
        {
          "output_type": "execute_result",
          "data": {
            "text/plain": [
              "172.73"
            ]
          },
          "metadata": {},
          "execution_count": 40
        }
      ]
    },
    {
      "cell_type": "code",
      "source": [
        "# выравним количество выборок в трех группах\n",
        "x1 = np.append(x, [179.12, 179.12, 179.12])\n",
        "print(x1)\n",
        "print(round(np.mean(x1), 2))"
      ],
      "metadata": {
        "colab": {
          "base_uri": "https://localhost:8080/"
        },
        "id": "yrFcjUoEK75v",
        "outputId": "f3780a5f-1f32-45b6-f38a-a9ef7bfcda2e"
      },
      "execution_count": 53,
      "outputs": [
        {
          "output_type": "stream",
          "name": "stdout",
          "text": [
            "[173.   175.   180.   178.   177.   185.   183.   182.   179.12 179.12\n",
            " 179.12]\n",
            "179.12\n"
          ]
        }
      ]
    },
    {
      "cell_type": "code",
      "source": [
        "y1 = np.append(y, [178.67, 178.67])\n",
        "print(y1)\n",
        "print(round(np.mean(y1), 2))"
      ],
      "metadata": {
        "colab": {
          "base_uri": "https://localhost:8080/"
        },
        "id": "yN8IsLTNNg7A",
        "outputId": "21e5e154-150d-4909-dde2-08d959add3d2"
      },
      "execution_count": 54,
      "outputs": [
        {
          "output_type": "stream",
          "name": "stdout",
          "text": [
            "[177.   179.   180.   188.   177.   172.   171.   184.   180.   178.67\n",
            " 178.67]\n",
            "178.67\n"
          ]
        }
      ]
    },
    {
      "cell_type": "code",
      "source": [
        "total = np.array([x1, y1, z])\n",
        "total"
      ],
      "metadata": {
        "colab": {
          "base_uri": "https://localhost:8080/"
        },
        "id": "4PMdnyZ-N2PU",
        "outputId": "617c66d2-fda8-407a-c3f6-b25ee4598144"
      },
      "execution_count": 55,
      "outputs": [
        {
          "output_type": "execute_result",
          "data": {
            "text/plain": [
              "array([[173.  , 175.  , 180.  , 178.  , 177.  , 185.  , 183.  , 182.  ,\n",
              "        179.12, 179.12, 179.12],\n",
              "       [177.  , 179.  , 180.  , 188.  , 177.  , 172.  , 171.  , 184.  ,\n",
              "        180.  , 178.67, 178.67],\n",
              "       [172.  , 173.  , 169.  , 177.  , 166.  , 180.  , 178.  , 177.  ,\n",
              "        172.  , 166.  , 170.  ]])"
            ]
          },
          "metadata": {},
          "execution_count": 55
        }
      ]
    },
    {
      "cell_type": "code",
      "source": [
        "round(np.mean(total), 2)"
      ],
      "metadata": {
        "colab": {
          "base_uri": "https://localhost:8080/"
        },
        "id": "wqFm4jYAPTD1",
        "outputId": "89efdb76-afb4-41b5-b7ab-4cdc15a3ea70"
      },
      "execution_count": 60,
      "outputs": [
        {
          "output_type": "execute_result",
          "data": {
            "text/plain": [
              "176.84"
            ]
          },
          "metadata": {},
          "execution_count": 60
        }
      ]
    },
    {
      "cell_type": "code",
      "source": [
        "k = 3 # количество групп\n",
        "n = 33 # общее количество значений роста в 3-х группах (11*3=33)\n"
      ],
      "metadata": {
        "id": "n5eYozLrOW6d"
      },
      "execution_count": 79,
      "outputs": []
    },
    {
      "cell_type": "code",
      "source": [
        "# Сумма квадратов отклонений наблюдений от общего среднего\n",
        "np.sum((total - 176.84)**2) # отложим это значение"
      ],
      "metadata": {
        "colab": {
          "base_uri": "https://localhost:8080/"
        },
        "id": "UcWrifo5PtRK",
        "outputId": "86462e98-8deb-494d-d79b-cf516dc44886"
      },
      "execution_count": 80,
      "outputs": [
        {
          "output_type": "execute_result",
          "data": {
            "text/plain": [
              "857.2097999999999"
            ]
          },
          "metadata": {},
          "execution_count": 80
        }
      ]
    },
    {
      "cell_type": "code",
      "source": [
        "# Сумма квадратов отклонений средних групповых значений от общего среднего\n",
        "S_f = np.sum((np.mean(x1) - 176.84)**2)*11 + np.sum((np.mean(y1) - 176.84)**2)*11 + np.sum((np.mean(z) - 176.84)**2)*11\n",
        "S_f"
      ],
      "metadata": {
        "colab": {
          "base_uri": "https://localhost:8080/"
        },
        "id": "qNDlNs0LQOk7",
        "outputId": "74a49e84-ed72-4191-f9e7-f6651651d998"
      },
      "execution_count": 81,
      "outputs": [
        {
          "output_type": "execute_result",
          "data": {
            "text/plain": [
              "280.15290909090913"
            ]
          },
          "metadata": {},
          "execution_count": 81
        }
      ]
    },
    {
      "cell_type": "code",
      "source": [
        "# Остаточная сумма квадратов отклонений\n",
        "S_ost = np.sum((x1 - np.mean(x1))**2) + np.sum((y1 - np.mean(y1))**2) + np.sum((z - np.mean(z))**2)\n",
        "S_ost"
      ],
      "metadata": {
        "colab": {
          "base_uri": "https://localhost:8080/"
        },
        "id": "n_ksO8eMRLnl",
        "outputId": "af9d0e17-d20b-4db6-94f4-70a5450e106c"
      },
      "execution_count": 82,
      "outputs": [
        {
          "output_type": "execute_result",
          "data": {
            "text/plain": [
              "577.056890909091"
            ]
          },
          "metadata": {},
          "execution_count": 82
        }
      ]
    },
    {
      "cell_type": "code",
      "source": [
        "S_total = S_f + S_ost\n",
        "S_total"
      ],
      "metadata": {
        "colab": {
          "base_uri": "https://localhost:8080/"
        },
        "id": "dUXf4jvaRVCS",
        "outputId": "d6685daf-98f7-476f-d378-1b19babdb528"
      },
      "execution_count": 83,
      "outputs": [
        {
          "output_type": "execute_result",
          "data": {
            "text/plain": [
              "857.2098000000001"
            ]
          },
          "metadata": {},
          "execution_count": 83
        }
      ]
    },
    {
      "cell_type": "code",
      "source": [
        "D_f = S_f / (k-1)\n",
        "D_f"
      ],
      "metadata": {
        "colab": {
          "base_uri": "https://localhost:8080/"
        },
        "id": "aDHzrC3VSgwP",
        "outputId": "9d026e23-9a17-405d-88e1-9448caeb6830"
      },
      "execution_count": 84,
      "outputs": [
        {
          "output_type": "execute_result",
          "data": {
            "text/plain": [
              "140.07645454545457"
            ]
          },
          "metadata": {},
          "execution_count": 84
        }
      ]
    },
    {
      "cell_type": "code",
      "source": [
        "D_ost = S_ost / (n - k)\n",
        "D_ost"
      ],
      "metadata": {
        "colab": {
          "base_uri": "https://localhost:8080/"
        },
        "id": "XaCo77DjSsPt",
        "outputId": "b8acc60c-9e9d-4352-ce25-3df87e6cf1bd"
      },
      "execution_count": 85,
      "outputs": [
        {
          "output_type": "execute_result",
          "data": {
            "text/plain": [
              "19.2352296969697"
            ]
          },
          "metadata": {},
          "execution_count": 85
        }
      ]
    },
    {
      "cell_type": "code",
      "source": [
        "F_n = D_f / D_ost # расчетный критерий Фишера\n",
        "F_n"
      ],
      "metadata": {
        "colab": {
          "base_uri": "https://localhost:8080/"
        },
        "id": "zyY1SUUSTeKW",
        "outputId": "5bc365f6-650e-4707-e6c2-6892ae37c975"
      },
      "execution_count": 86,
      "outputs": [
        {
          "output_type": "execute_result",
          "data": {
            "text/plain": [
              "7.282286551926234"
            ]
          },
          "metadata": {},
          "execution_count": 86
        }
      ]
    }
  ]
}