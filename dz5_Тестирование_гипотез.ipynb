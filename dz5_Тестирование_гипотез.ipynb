{
  "nbformat": 4,
  "nbformat_minor": 0,
  "metadata": {
    "colab": {
      "provenance": [],
      "authorship_tag": "ABX9TyMfbnXWgo85AsCGGrRWk4wz",
      "include_colab_link": true
    },
    "kernelspec": {
      "name": "python3",
      "display_name": "Python 3"
    },
    "language_info": {
      "name": "python"
    }
  },
  "cells": [
    {
      "cell_type": "markdown",
      "metadata": {
        "id": "view-in-github",
        "colab_type": "text"
      },
      "source": [
        "<a href=\"https://colab.research.google.com/github/zajcnataliya/Probability-and-Statistics/blob/main/dz5_%D0%A2%D0%B5%D1%81%D1%82%D0%B8%D1%80%D0%BE%D0%B2%D0%B0%D0%BD%D0%B8%D0%B5_%D0%B3%D0%B8%D0%BF%D0%BE%D1%82%D0%B5%D0%B7.ipynb\" target=\"_parent\"><img src=\"https://colab.research.google.com/assets/colab-badge.svg\" alt=\"Open In Colab\"/></a>"
      ]
    },
    {
      "cell_type": "markdown",
      "source": [
        "1) Когда используется критерий Стьюдента, а когда Z –критерий?\n",
        "\n",
        "Если у нас условия применимости параметрических тестов соблюдены (выборка взята из нормально распределенной генеральной совокупности, равенство дисперсий в группах), то в случае известной сигмы генеральной совокупности более предпочтителен Z- критерий, в противном случае -  критерий Стьюдента t. \n",
        "\n"
      ],
      "metadata": {
        "id": "36WV0V4saXFa"
      }
    },
    {
      "cell_type": "markdown",
      "source": [
        "Задачи 2,3 решать вручную\n",
        "\n",
        "2) Проведите тест гипотезы. Утверждается, что шарики для подшипников, изготовленные автоматическим станком, имеют средний диаметр 17 мм.\n",
        "\n",
        "Используя односторонний критерий с α=0,05, проверить эту гипотезу, если в выборке из n=100 шариков средний диаметр\n",
        "\n",
        "оказался равным 17.5 мм, а дисперсия известна и равна 4 кв. мм."
      ],
      "metadata": {
        "id": "iwiWhqX8b5EA"
      }
    },
    {
      "cell_type": "code",
      "source": [
        "import numpy as np\n",
        "m0 = 17\n",
        "m = 17.5\n",
        "n = 100\n",
        "D = 4\n",
        "std = 2\n",
        "# Найдем Z_t табличное\n",
        "# Z_t = 1.645\n",
        "# Найдем Z_r расчетное\n",
        "Z_r = (m-m0)/(std/np.sqrt(100))\n",
        "Z_r\n",
        "# Вывод: Z_r расчетное = 2.5 попадает в область принятия\n",
        "# альтернативной гипотезы, т.е. верна альтернативная гипотеза m > m0\n",
        "# на уровне статистической значимости 0.05"
      ],
      "metadata": {
        "colab": {
          "base_uri": "https://localhost:8080/"
        },
        "id": "IAjTbckfb8K3",
        "outputId": "270bf8c2-0767-4ccb-fe8f-8a3695729d5c"
      },
      "execution_count": 6,
      "outputs": [
        {
          "output_type": "execute_result",
          "data": {
            "text/plain": [
              "2.5"
            ]
          },
          "metadata": {},
          "execution_count": 6
        }
      ]
    },
    {
      "cell_type": "markdown",
      "source": [
        "3)Проведите тест гипотезы. Продавец утверждает, что средний вес пачки печенья составляет 200 г.\n",
        "\n",
        "Из партии извлечена выборка из 10 пачек. Вес каждой пачки составляет:\n",
        "\n",
        "202, 203, 199, 197, 195, 201, 200, 204, 194, 190.\n",
        "\n",
        "Известно, что их веса распределены нормально.\n",
        "\n",
        "Верно ли утверждение продавца, если учитывать, что доверительная вероятность равна 99%? (Провести двусторонний тест.)"
      ],
      "metadata": {
        "id": "v0A_vGMtcBcE"
      }
    },
    {
      "cell_type": "code",
      "source": [
        "import numpy as np\n",
        "m0 = 200\n",
        "n = 10\n",
        "x = np.array([202, 203, 199, 197, 195, 201, 200, 204, 194, 190])\n",
        "m = np.mean(x)\n",
        "print(m)\n",
        "alfa = 0.01\n",
        "# Степень свободы (n-1)=(10-1)=9\n",
        "# Ищем табличные значения 2-x стороннего критерия Стьюдента\n",
        "# (пересечение 9 степеней свободы и 0.01): -3.250 и +3.250\n",
        "\n",
        "# Найдем t_r расчетное\n",
        "std = np.std(x,ddof=1)\n",
        "print(std)\n",
        "t_r = (m-m0)/(std/np.sqrt(10))\n",
        "print(t_r)\n",
        "\n",
        "# Вывод: Z_r расчетное = -1.065 попадает в область принятия\n",
        "# нулевой гипотезы, т.е. верна нулевая гипотеза - средний вес пачки 200 г"
      ],
      "metadata": {
        "colab": {
          "base_uri": "https://localhost:8080/"
        },
        "id": "uBYQ7ih1cHsx",
        "outputId": "db5e1783-be60-4f08-89ec-40f416d95c79"
      },
      "execution_count": 13,
      "outputs": [
        {
          "output_type": "stream",
          "name": "stdout",
          "text": [
            "198.5\n",
            "4.453463071962462\n",
            "-1.0651074037450896\n"
          ]
        }
      ]
    },
    {
      "cell_type": "markdown",
      "source": [
        "Задачу 4 решать с помощью функции.\n",
        "\n",
        "4)Есть ли статистически значимые различия в росте дочерей?\n",
        "\n",
        "Рост матерей 172, 177, 158, 170, 178,175, 164, 160, 169\n",
        "\n",
        "Рост взрослых дочерей: 173, 175, 162, 174, 175, 168, 155, 170, 160"
      ],
      "metadata": {
        "id": "f_Q_SAVCcISE"
      }
    },
    {
      "cell_type": "code",
      "source": [
        "import numpy as np\n",
        "import pandas as pd\n",
        "from scipy import stats\n",
        "x = np.array([172, 177, 158, 170, 178,175, 164, 160, 169])\n",
        "y = np.array([173, 175, 162, 174, 175, 168, 155, 170, 160])\n",
        "stats.ttest_rel(x,y)\n",
        "# Вывод: статистически значимых различий нет"
      ],
      "metadata": {
        "colab": {
          "base_uri": "https://localhost:8080/"
        },
        "id": "4ou5je842l48",
        "outputId": "fd68d6b1-5eca-45bc-e5dc-4489d03e2f4d"
      },
      "execution_count": 15,
      "outputs": [
        {
          "output_type": "execute_result",
          "data": {
            "text/plain": [
              "TtestResult(statistic=0.559522990335608, pvalue=0.5911212354055175, df=8)"
            ]
          },
          "metadata": {},
          "execution_count": 15
        }
      ]
    }
  ]
}